{
 "cells": [
  {
   "cell_type": "markdown",
   "id": "3644ffdc-b7c9-46d6-af31-ac1268cca417",
   "metadata": {},
   "source": [
    "## Split Dataset\n",
    "\n",
    "The purpose of this notebook is to split the dataset into `training` and `test`. By doing this at the begining of the project it is possible to avoid leaking information about the data and using the `test` set as \"production\" data, which would available only after putting the model into production.\n",
    "\n",
    "To be able to split the dataset it is necessary to have access to the columns and check the distribution of the data to understand what attribute  should be used to slit the dataset.\n",
    "\n",
    "\n",
    "### Tasks:\n",
    " - [x] Load external dataset;\n",
    " - [x] Identify split column and value;\n",
    " - [x] Split dataset into training and test sets;\n",
    " - [x] Save datasets."
   ]
  },
  {
   "cell_type": "markdown",
   "id": "bec72710-4f04-41ed-86d9-41fffd8c69f2",
   "metadata": {},
   "source": [
    "## Libraries and Configurations"
   ]
  },
  {
   "cell_type": "code",
   "execution_count": 1,
   "id": "babd5880-ab1e-4a93-b44d-5d3ab8ed12c8",
   "metadata": {},
   "outputs": [],
   "source": [
    "import pandas as pd\n",
    "from IPython.core.display import HTML\n",
    "\n",
    "from application.code.core.configurations import configs\n",
    "from application.code.adapters.storage import save_dataset\n",
    "from application.code.core.dataset_split_service import compute_cumulative_records_by_date"
   ]
  },
  {
   "cell_type": "markdown",
   "id": "1ec9ccb2-83b9-401d-a87e-1160ed443bb5",
   "metadata": {},
   "source": [
    "## Local Functions"
   ]
  },
  {
   "cell_type": "code",
   "execution_count": 2,
   "id": "aecf2cdc-57c7-4758-809b-bf5da0e1ce6d",
   "metadata": {},
   "outputs": [],
   "source": [
    "def summarize_set(df: pd.DataFrame, title: str):\n",
    "\n",
    "    display(HTML(f'<h4>{title}</h4>'))\n",
    "    display(HTML(\n",
    "        f''' - <strong>Records:</strong> {len(df):,}<br />\n",
    "             - <strong>Periods:</strong> from {df.period.min()} to {df.period.max()}\n",
    "        '''))"
   ]
  },
  {
   "cell_type": "markdown",
   "id": "d7ba70e1-950a-49f2-983a-9033a3a573f7",
   "metadata": {},
   "source": [
    "## Load External Dataset"
   ]
  },
  {
   "cell_type": "code",
   "execution_count": 3,
   "id": "440d4bc7-ed0e-4a42-a074-ef1dfdecaa6f",
   "metadata": {},
   "outputs": [
    {
     "name": "stdout",
     "output_type": "stream",
     "text": [
      "Records: 4955\n",
      "\n",
      "Sample:\n"
     ]
    },
    {
     "data": {
      "text/html": [
       "<div>\n",
       "<style scoped>\n",
       "    .dataframe tbody tr th:only-of-type {\n",
       "        vertical-align: middle;\n",
       "    }\n",
       "\n",
       "    .dataframe tbody tr th {\n",
       "        vertical-align: top;\n",
       "    }\n",
       "\n",
       "    .dataframe thead th {\n",
       "        text-align: right;\n",
       "    }\n",
       "</style>\n",
       "<table border=\"1\" class=\"dataframe\">\n",
       "  <thead>\n",
       "    <tr style=\"text-align: right;\">\n",
       "      <th></th>\n",
       "      <th>0</th>\n",
       "      <th>1</th>\n",
       "      <th>2</th>\n",
       "    </tr>\n",
       "  </thead>\n",
       "  <tbody>\n",
       "    <tr>\n",
       "      <th>id</th>\n",
       "      <td>4,53E+11</td>\n",
       "      <td>4,53E+11</td>\n",
       "      <td>4,53E+11</td>\n",
       "    </tr>\n",
       "    <tr>\n",
       "      <th>safra_abertura</th>\n",
       "      <td>201405</td>\n",
       "      <td>201405</td>\n",
       "      <td>201405</td>\n",
       "    </tr>\n",
       "    <tr>\n",
       "      <th>cidade</th>\n",
       "      <td>CAMPO LIMPO PAULISTA</td>\n",
       "      <td>CAMPO LIMPO PAULISTA</td>\n",
       "      <td>CAMPO LIMPO PAULISTA</td>\n",
       "    </tr>\n",
       "    <tr>\n",
       "      <th>estado</th>\n",
       "      <td>SP</td>\n",
       "      <td>SP</td>\n",
       "      <td>SP</td>\n",
       "    </tr>\n",
       "    <tr>\n",
       "      <th>idade</th>\n",
       "      <td>37</td>\n",
       "      <td>37</td>\n",
       "      <td>37</td>\n",
       "    </tr>\n",
       "    <tr>\n",
       "      <th>sexo</th>\n",
       "      <td>F</td>\n",
       "      <td>F</td>\n",
       "      <td>F</td>\n",
       "    </tr>\n",
       "    <tr>\n",
       "      <th>limite_total</th>\n",
       "      <td>4700</td>\n",
       "      <td>4700</td>\n",
       "      <td>4700</td>\n",
       "    </tr>\n",
       "    <tr>\n",
       "      <th>limite_disp</th>\n",
       "      <td>5605</td>\n",
       "      <td>5343</td>\n",
       "      <td>2829</td>\n",
       "    </tr>\n",
       "    <tr>\n",
       "      <th>data</th>\n",
       "      <td>4.12.2019</td>\n",
       "      <td>9.11.2019</td>\n",
       "      <td>6.05.2019</td>\n",
       "    </tr>\n",
       "    <tr>\n",
       "      <th>valor</th>\n",
       "      <td>31</td>\n",
       "      <td>150,01</td>\n",
       "      <td>50</td>\n",
       "    </tr>\n",
       "    <tr>\n",
       "      <th>grupo_estabelecimento</th>\n",
       "      <td>SERVIO</td>\n",
       "      <td>FARMACIAS</td>\n",
       "      <td>SERVIO</td>\n",
       "    </tr>\n",
       "    <tr>\n",
       "      <th>cidade_estabelecimento</th>\n",
       "      <td>SAO PAULO</td>\n",
       "      <td>SANTOS</td>\n",
       "      <td>SAO PAULO</td>\n",
       "    </tr>\n",
       "    <tr>\n",
       "      <th>pais_estabelecimento</th>\n",
       "      <td>BR</td>\n",
       "      <td>BR</td>\n",
       "      <td>BR</td>\n",
       "    </tr>\n",
       "  </tbody>\n",
       "</table>\n",
       "</div>"
      ],
      "text/plain": [
       "                                             0                       1  \\\n",
       "id                                    4,53E+11                4,53E+11   \n",
       "safra_abertura                          201405                  201405   \n",
       "cidade                  CAMPO LIMPO PAULISTA    CAMPO LIMPO PAULISTA     \n",
       "estado                                     SP                      SP    \n",
       "idade                                       37                      37   \n",
       "sexo                                         F                       F   \n",
       "limite_total                              4700                    4700   \n",
       "limite_disp                               5605                    5343   \n",
       "data                                 4.12.2019               9.11.2019   \n",
       " valor                                      31                  150,01   \n",
       "grupo_estabelecimento                  SERVIO               FARMACIAS   \n",
       "cidade_estabelecimento               SAO PAULO                  SANTOS   \n",
       "pais_estabelecimento                        BR                      BR   \n",
       "\n",
       "                                             2  \n",
       "id                                    4,53E+11  \n",
       "safra_abertura                          201405  \n",
       "cidade                  CAMPO LIMPO PAULISTA    \n",
       "estado                                     SP   \n",
       "idade                                       37  \n",
       "sexo                                         F  \n",
       "limite_total                              4700  \n",
       "limite_disp                               2829  \n",
       "data                                 6.05.2019  \n",
       " valor                                      50  \n",
       "grupo_estabelecimento                  SERVIO  \n",
       "cidade_estabelecimento               SAO PAULO  \n",
       "pais_estabelecimento                        BR  "
      ]
     },
     "execution_count": 3,
     "metadata": {},
     "output_type": "execute_result"
    }
   ],
   "source": [
    "df = pd.read_csv(configs.external_dataset, sep=';', encoding='latin1')\n",
    "\n",
    "print(f'Records: {len(df)}')\n",
    "\n",
    "print('\\nSample:')\n",
    "df.head(3).T"
   ]
  },
  {
   "cell_type": "markdown",
   "id": "5c799006-03d8-40c1-ad07-9e0d5e942828",
   "metadata": {},
   "source": [
    "## Analize Split Configurations\n",
    "\n",
    "Based on the sample, it is possible to identify that transactions are recorded by date. Considering that a model should be trainined on known data, **the transaction date should be the split column** to separate the past from the future and avoid data leackage.\n",
    "\n",
    "To decide the date to split, it is necessary to analyze the distribution of records based on the date."
   ]
  },
  {
   "cell_type": "code",
   "execution_count": 4,
   "id": "740fbd41-7e19-4cf8-b416-047fff7ccd27",
   "metadata": {},
   "outputs": [
    {
     "data": {
      "text/html": [
       "<h3>Cummulative Transactions by Date</h3>"
      ],
      "text/plain": [
       "<IPython.core.display.HTML object>"
      ]
     },
     "metadata": {},
     "output_type": "display_data"
    },
    {
     "data": {
      "text/html": [
       "<div>\n",
       "<style scoped>\n",
       "    .dataframe tbody tr th:only-of-type {\n",
       "        vertical-align: middle;\n",
       "    }\n",
       "\n",
       "    .dataframe tbody tr th {\n",
       "        vertical-align: top;\n",
       "    }\n",
       "\n",
       "    .dataframe thead th {\n",
       "        text-align: right;\n",
       "    }\n",
       "</style>\n",
       "<table border=\"1\" class=\"dataframe\">\n",
       "  <thead>\n",
       "    <tr style=\"text-align: right;\">\n",
       "      <th></th>\n",
       "      <th>period</th>\n",
       "      <th>transactions</th>\n",
       "      <th>total_transactions</th>\n",
       "      <th>percentage</th>\n",
       "    </tr>\n",
       "  </thead>\n",
       "  <tbody>\n",
       "    <tr>\n",
       "      <th>0</th>\n",
       "      <td>2019-04-01</td>\n",
       "      <td>9</td>\n",
       "      <td>9</td>\n",
       "      <td>0.181635</td>\n",
       "    </tr>\n",
       "    <tr>\n",
       "      <th>1</th>\n",
       "      <td>2019-04-02</td>\n",
       "      <td>5</td>\n",
       "      <td>14</td>\n",
       "      <td>0.282543</td>\n",
       "    </tr>\n",
       "    <tr>\n",
       "      <th>2</th>\n",
       "      <td>2019-04-03</td>\n",
       "      <td>9</td>\n",
       "      <td>23</td>\n",
       "      <td>0.464178</td>\n",
       "    </tr>\n",
       "    <tr>\n",
       "      <th>3</th>\n",
       "      <td>2019-04-04</td>\n",
       "      <td>12</td>\n",
       "      <td>35</td>\n",
       "      <td>0.706357</td>\n",
       "    </tr>\n",
       "    <tr>\n",
       "      <th>4</th>\n",
       "      <td>2019-04-05</td>\n",
       "      <td>12</td>\n",
       "      <td>47</td>\n",
       "      <td>0.948537</td>\n",
       "    </tr>\n",
       "    <tr>\n",
       "      <th>...</th>\n",
       "      <td>...</td>\n",
       "      <td>...</td>\n",
       "      <td>...</td>\n",
       "      <td>...</td>\n",
       "    </tr>\n",
       "    <tr>\n",
       "      <th>398</th>\n",
       "      <td>2020-05-03</td>\n",
       "      <td>5</td>\n",
       "      <td>4926</td>\n",
       "      <td>99.414733</td>\n",
       "    </tr>\n",
       "    <tr>\n",
       "      <th>399</th>\n",
       "      <td>2020-05-04</td>\n",
       "      <td>7</td>\n",
       "      <td>4933</td>\n",
       "      <td>99.556004</td>\n",
       "    </tr>\n",
       "    <tr>\n",
       "      <th>400</th>\n",
       "      <td>2020-05-05</td>\n",
       "      <td>9</td>\n",
       "      <td>4942</td>\n",
       "      <td>99.737639</td>\n",
       "    </tr>\n",
       "    <tr>\n",
       "      <th>401</th>\n",
       "      <td>2020-05-06</td>\n",
       "      <td>2</td>\n",
       "      <td>4944</td>\n",
       "      <td>99.778002</td>\n",
       "    </tr>\n",
       "    <tr>\n",
       "      <th>402</th>\n",
       "      <td>2020-05-07</td>\n",
       "      <td>11</td>\n",
       "      <td>4955</td>\n",
       "      <td>100.000000</td>\n",
       "    </tr>\n",
       "  </tbody>\n",
       "</table>\n",
       "<p>403 rows × 4 columns</p>\n",
       "</div>"
      ],
      "text/plain": [
       "         period  transactions  total_transactions  percentage\n",
       "0    2019-04-01             9                   9    0.181635\n",
       "1    2019-04-02             5                  14    0.282543\n",
       "2    2019-04-03             9                  23    0.464178\n",
       "3    2019-04-04            12                  35    0.706357\n",
       "4    2019-04-05            12                  47    0.948537\n",
       "..          ...           ...                 ...         ...\n",
       "398  2020-05-03             5                4926   99.414733\n",
       "399  2020-05-04             7                4933   99.556004\n",
       "400  2020-05-05             9                4942   99.737639\n",
       "401  2020-05-06             2                4944   99.778002\n",
       "402  2020-05-07            11                4955  100.000000\n",
       "\n",
       "[403 rows x 4 columns]"
      ]
     },
     "metadata": {},
     "output_type": "display_data"
    },
    {
     "data": {
      "text/html": [
       "<h3>Last ~20% of Transactions</h3>"
      ],
      "text/plain": [
       "<IPython.core.display.HTML object>"
      ]
     },
     "metadata": {},
     "output_type": "display_data"
    },
    {
     "data": {
      "text/html": [
       "<strong>Cutoff Period</strong>: 2020-01-27"
      ],
      "text/plain": [
       "<IPython.core.display.HTML object>"
      ]
     },
     "metadata": {},
     "output_type": "display_data"
    },
    {
     "data": {
      "text/html": [
       "<div>\n",
       "<style scoped>\n",
       "    .dataframe tbody tr th:only-of-type {\n",
       "        vertical-align: middle;\n",
       "    }\n",
       "\n",
       "    .dataframe tbody tr th {\n",
       "        vertical-align: top;\n",
       "    }\n",
       "\n",
       "    .dataframe thead th {\n",
       "        text-align: right;\n",
       "    }\n",
       "</style>\n",
       "<table border=\"1\" class=\"dataframe\">\n",
       "  <thead>\n",
       "    <tr style=\"text-align: right;\">\n",
       "      <th></th>\n",
       "      <th>period</th>\n",
       "      <th>transactions</th>\n",
       "      <th>total_transactions</th>\n",
       "      <th>percentage</th>\n",
       "    </tr>\n",
       "  </thead>\n",
       "  <tbody>\n",
       "    <tr>\n",
       "      <th>301</th>\n",
       "      <td>2020-01-27</td>\n",
       "      <td>25</td>\n",
       "      <td>3969</td>\n",
       "      <td>80.100908</td>\n",
       "    </tr>\n",
       "    <tr>\n",
       "      <th>302</th>\n",
       "      <td>2020-01-28</td>\n",
       "      <td>19</td>\n",
       "      <td>3988</td>\n",
       "      <td>80.484359</td>\n",
       "    </tr>\n",
       "    <tr>\n",
       "      <th>303</th>\n",
       "      <td>2020-01-29</td>\n",
       "      <td>23</td>\n",
       "      <td>4011</td>\n",
       "      <td>80.948537</td>\n",
       "    </tr>\n",
       "    <tr>\n",
       "      <th>304</th>\n",
       "      <td>2020-01-30</td>\n",
       "      <td>8</td>\n",
       "      <td>4019</td>\n",
       "      <td>81.109990</td>\n",
       "    </tr>\n",
       "    <tr>\n",
       "      <th>305</th>\n",
       "      <td>2020-01-31</td>\n",
       "      <td>15</td>\n",
       "      <td>4034</td>\n",
       "      <td>81.412714</td>\n",
       "    </tr>\n",
       "    <tr>\n",
       "      <th>...</th>\n",
       "      <td>...</td>\n",
       "      <td>...</td>\n",
       "      <td>...</td>\n",
       "      <td>...</td>\n",
       "    </tr>\n",
       "    <tr>\n",
       "      <th>398</th>\n",
       "      <td>2020-05-03</td>\n",
       "      <td>5</td>\n",
       "      <td>4926</td>\n",
       "      <td>99.414733</td>\n",
       "    </tr>\n",
       "    <tr>\n",
       "      <th>399</th>\n",
       "      <td>2020-05-04</td>\n",
       "      <td>7</td>\n",
       "      <td>4933</td>\n",
       "      <td>99.556004</td>\n",
       "    </tr>\n",
       "    <tr>\n",
       "      <th>400</th>\n",
       "      <td>2020-05-05</td>\n",
       "      <td>9</td>\n",
       "      <td>4942</td>\n",
       "      <td>99.737639</td>\n",
       "    </tr>\n",
       "    <tr>\n",
       "      <th>401</th>\n",
       "      <td>2020-05-06</td>\n",
       "      <td>2</td>\n",
       "      <td>4944</td>\n",
       "      <td>99.778002</td>\n",
       "    </tr>\n",
       "    <tr>\n",
       "      <th>402</th>\n",
       "      <td>2020-05-07</td>\n",
       "      <td>11</td>\n",
       "      <td>4955</td>\n",
       "      <td>100.000000</td>\n",
       "    </tr>\n",
       "  </tbody>\n",
       "</table>\n",
       "<p>102 rows × 4 columns</p>\n",
       "</div>"
      ],
      "text/plain": [
       "         period  transactions  total_transactions  percentage\n",
       "301  2020-01-27            25                3969   80.100908\n",
       "302  2020-01-28            19                3988   80.484359\n",
       "303  2020-01-29            23                4011   80.948537\n",
       "304  2020-01-30             8                4019   81.109990\n",
       "305  2020-01-31            15                4034   81.412714\n",
       "..          ...           ...                 ...         ...\n",
       "398  2020-05-03             5                4926   99.414733\n",
       "399  2020-05-04             7                4933   99.556004\n",
       "400  2020-05-05             9                4942   99.737639\n",
       "401  2020-05-06             2                4944   99.778002\n",
       "402  2020-05-07            11                4955  100.000000\n",
       "\n",
       "[102 rows x 4 columns]"
      ]
     },
     "execution_count": 4,
     "metadata": {},
     "output_type": "execute_result"
    }
   ],
   "source": [
    "cumulative_transactions_df = compute_cumulative_records_by_date(df)\n",
    "\n",
    "display(HTML('<h3>Cummulative Transactions by Date</h3>'))\n",
    "display(cumulative_transactions_df)\n",
    "\n",
    "display(HTML('<h3>Last ~20% of Transactions</h3>'))\n",
    "\n",
    "cutoff_period = (cumulative_transactions_df \n",
    "                 .loc[lambda f: f['percentage'] >= 80]\n",
    "                 ['period']\n",
    "                 .min()\n",
    "                )\n",
    "\n",
    "display(HTML(f'<strong>Cutoff Period</strong>: {cutoff_period}'))\n",
    "(\n",
    "    cumulative_transactions_df\n",
    "    .loc[lambda f: f['period'] >= cutoff_period]\n",
    ")"
   ]
  },
  {
   "cell_type": "markdown",
   "id": "fcfe5315-923a-4be0-8050-42cc8e539f8e",
   "metadata": {},
   "source": [
    "## Split Dataset\n",
    "\n",
    "With a cutoff period defined, it is possible to split the main dataset into train and test sets."
   ]
  },
  {
   "cell_type": "code",
   "execution_count": 5,
   "id": "7f1a82df-a11c-409b-9216-bb8491d13f79",
   "metadata": {},
   "outputs": [],
   "source": [
    "df_with_period = (\n",
    "    df\n",
    "    .assign(period=lambda f: pd.to_datetime(f[\"data\"],\n",
    "                                            format=\"%d.%m.%Y\").apply(lambda dt: str(dt.date())))\n",
    ")\n",
    "\n",
    "train_df = (\n",
    "    df_with_period\n",
    "    .loc[lambda f: f['period'] < cutoff_period]\n",
    "    .reset_index(drop=True)\n",
    ")\n",
    "test_df = (\n",
    "    df_with_period\n",
    "    .loc[lambda f: f['period'] >= cutoff_period]\n",
    "    .reset_index(drop=True)\n",
    ")"
   ]
  },
  {
   "cell_type": "markdown",
   "id": "b9b27de2-000c-4eed-a022-6c90b6dcfcfd",
   "metadata": {},
   "source": [
    "Check both datasets do not share dates"
   ]
  },
  {
   "cell_type": "code",
   "execution_count": 6,
   "id": "806b4bfb-5580-4914-8357-99f4afe81eef",
   "metadata": {},
   "outputs": [],
   "source": [
    "train_dates = set(train_df['data'].tolist())\n",
    "test_dates = set(test_df['data'].tolist())\n",
    "\n",
    "assert len(train_dates & test_dates) == 0, \\\n",
    "'There is shared information between train and test datsets'"
   ]
  },
  {
   "cell_type": "markdown",
   "id": "b924ac6d-fa55-43ea-b984-f90048be4851",
   "metadata": {},
   "source": [
    "Summarize information about the datasets"
   ]
  },
  {
   "cell_type": "code",
   "execution_count": 7,
   "id": "6f93282e-bc3c-4a7f-9e88-fba77e962b41",
   "metadata": {},
   "outputs": [
    {
     "data": {
      "text/html": [
       "<h4>Training</h4>"
      ],
      "text/plain": [
       "<IPython.core.display.HTML object>"
      ]
     },
     "metadata": {},
     "output_type": "display_data"
    },
    {
     "data": {
      "text/html": [
       " - <strong>Records:</strong> 3,944<br />\n",
       "             - <strong>Periods:</strong> from 2019-04-01 to 2020-01-26\n",
       "        "
      ],
      "text/plain": [
       "<IPython.core.display.HTML object>"
      ]
     },
     "metadata": {},
     "output_type": "display_data"
    },
    {
     "data": {
      "text/html": [
       "<h4>Test</h4>"
      ],
      "text/plain": [
       "<IPython.core.display.HTML object>"
      ]
     },
     "metadata": {},
     "output_type": "display_data"
    },
    {
     "data": {
      "text/html": [
       " - <strong>Records:</strong> 1,011<br />\n",
       "             - <strong>Periods:</strong> from 2020-01-27 to 2020-05-07\n",
       "        "
      ],
      "text/plain": [
       "<IPython.core.display.HTML object>"
      ]
     },
     "metadata": {},
     "output_type": "display_data"
    }
   ],
   "source": [
    "summarize_set(train_df, 'Training')\n",
    "summarize_set(test_df, 'Test')"
   ]
  },
  {
   "cell_type": "markdown",
   "id": "8133d5ed-4cba-49b8-ad58-6a85cd1960ee",
   "metadata": {},
   "source": [
    "## Save Datasets"
   ]
  },
  {
   "cell_type": "code",
   "execution_count": 8,
   "id": "a13b823a-5028-4dc9-b561-f02e9e97b515",
   "metadata": {},
   "outputs": [],
   "source": [
    "save_dataset(train_df, configs.base_path, 'raw', 'train')\n",
    "save_dataset(test_df, configs.base_path, 'raw', 'test')"
   ]
  }
 ],
 "metadata": {
  "kernelspec": {
   "display_name": "Python 3 (ipykernel)",
   "language": "python",
   "name": "python3"
  },
  "language_info": {
   "codemirror_mode": {
    "name": "ipython",
    "version": 3
   },
   "file_extension": ".py",
   "mimetype": "text/x-python",
   "name": "python",
   "nbconvert_exporter": "python",
   "pygments_lexer": "ipython3",
   "version": "3.8.13"
  }
 },
 "nbformat": 4,
 "nbformat_minor": 5
}
