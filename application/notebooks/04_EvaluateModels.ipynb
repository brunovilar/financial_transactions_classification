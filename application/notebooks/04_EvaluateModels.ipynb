{
 "cells": [
  {
   "cell_type": "markdown",
   "id": "020812d5-b5a9-4f68-8948-aab89eb508bd",
   "metadata": {},
   "source": [
    "## Evaluate Models\n",
    "\n",
    "This notebook aims to evaluate the `base_model` and `modified_model` on the test set. That is the final evaluation on the unseen data, as would happen in production.\n",
    "The published versions of the models are used to assure the metrics are computed with the wrapper that would also be used in production. Thus, we avoid checking the data with an experimentation pipeline that could be different from the production code.\n",
    "\n",
    "### Tasks:\n",
    " - [X] Load test dataset.\n",
    " - [X] Load models:\n",
    "     - [X] Base model.\n",
    "     - [X] Modified model (`clothing`).\n",
    " - [X] Evaluate models on the test set.\n",
    "     - [X] Generate confusion matrix.\n",
    "     - [X] Check metrics on clothing category.\n",
    " - [X] Update MLFlow with models metrics"
   ]
  },
  {
   "cell_type": "markdown",
   "id": "be3ab42d-6649-40e0-9005-2459a43766be",
   "metadata": {},
   "source": [
    "## Libraries and Configurations"
   ]
  },
  {
   "cell_type": "code",
   "execution_count": 1,
   "id": "cf8586e5-c7b0-4145-b093-427f6d926480",
   "metadata": {},
   "outputs": [],
   "source": [
    "from operator import itemgetter\n",
    "\n",
    "import pandas as pd\n",
    "\n",
    "import mlflow\n",
    "from mlflow.tracking import MlflowClient\n",
    "from sklearn.preprocessing._label import LabelEncoder\n",
    "from IPython.core.display import HTML\n",
    "\n",
    "from application.code.core.configurations import configs\n",
    "from application.code.adapters.storage import read_dataset\n",
    "from application.code.core.model_evaluation import (compute_multiclass_classification_metrics,\n",
    "                                                    generate_classification_report)\n",
    "\n",
    "from application.code.adapters.mlflow_adapter import (get_mlflow_artifact_content,\n",
    "                                                      get_published_model,\n",
    "                                                      extract_internal_model,\n",
    "                                                      set_active_run,\n",
    "                                                      end_run,\n",
    "                                                      log_dataframe_artifact,\n",
    "                                                      log_metrics\n",
    "                                                     )\n",
    "from application.code.core.feature_engineering import standardize_label"
   ]
  },
  {
   "cell_type": "markdown",
   "id": "60761921-3817-4755-b0c0-cbb0e2f06509",
   "metadata": {},
   "source": [
    "## MLflow Settings"
   ]
  },
  {
   "cell_type": "code",
   "execution_count": 2,
   "id": "0ab71e61-63b0-45b9-97a9-e8f9c230cf12",
   "metadata": {},
   "outputs": [],
   "source": [
    "mlflow.set_tracking_uri(configs.mlflow.uri)\n",
    "mlflow.set_experiment(configs.mlflow.experiment_name);"
   ]
  },
  {
   "cell_type": "markdown",
   "id": "52d4160a-5e53-4b6a-b100-cde8b23d5498",
   "metadata": {},
   "source": [
    "## Load Dataset\n",
    "\n",
    "The `test` dataset is loaded to perform the final evaluation."
   ]
  },
  {
   "cell_type": "code",
   "execution_count": 3,
   "id": "5eaaec26-3dd5-47c1-82f3-1655b8ee07aa",
   "metadata": {
    "tags": []
   },
   "outputs": [
    {
     "data": {
      "text/html": [
       "<h4>Dataset</h4>"
      ],
      "text/plain": [
       "<IPython.core.display.HTML object>"
      ]
     },
     "metadata": {},
     "output_type": "display_data"
    },
    {
     "name": "stdout",
     "output_type": "stream",
     "text": [
      "Records: 1011\n"
     ]
    },
    {
     "data": {
      "text/html": [
       "<h4>Deduplicated Dataset</h4>"
      ],
      "text/plain": [
       "<IPython.core.display.HTML object>"
      ]
     },
     "metadata": {},
     "output_type": "display_data"
    },
    {
     "name": "stdout",
     "output_type": "stream",
     "text": [
      "Records: 1004\n"
     ]
    }
   ],
   "source": [
    "df = read_dataset(base_path=configs.datasets.base_path, stage='raw', file_name='test')\n",
    "\n",
    "display(HTML('<h4>Dataset</h4>'))\n",
    "print(f'Records: {len(df)}')\n",
    "\n",
    "df = df.drop_duplicates()\n",
    "display(HTML('<h4>Deduplicated Dataset</h4>'))\n",
    "print(f'Records: {len(df)}')"
   ]
  },
  {
   "cell_type": "markdown",
   "id": "ae287154-f98d-4581-8e8e-fda010f600bd",
   "metadata": {},
   "source": [
    "To create the model and perform experiments, only the `training` dataset will be used. The evaluation will be performed by creating some time-oriented `validation` datasets using the same methodology used to create the `test` dataset.\n",
    "\n",
    "3 sets of `training` and `validation` sets will be created, each of them representing a fold. At the end, it will be possible to have an efficacy measurement with a variance notion.\n",
    "It is important to use `validation` set avoid using the `test` several times. Ideally, it should be used only once, for the final assessment."
   ]
  },
  {
   "cell_type": "markdown",
   "id": "d14838d4-486e-4175-894b-7dd70f6b5f7d",
   "metadata": {},
   "source": [
    "## Load Models\n",
    "\n",
    "The models are retrieved from MLflow server to be used as it would in production."
   ]
  },
  {
   "cell_type": "code",
   "execution_count": 4,
   "id": "5c6af819-5041-4f91-940d-41398be22554",
   "metadata": {},
   "outputs": [],
   "source": [
    "base_model = get_published_model(model_name=configs.mlflow.base_model_name,\n",
    "                                 stage=\"Staging\")\n",
    "\n",
    "modified_model = get_published_model(model_name=configs.mlflow.modified_model_name,\n",
    "                                 stage=\"Staging\")"
   ]
  },
  {
   "cell_type": "markdown",
   "id": "b7391b81-f0a7-41f2-bebb-dd7948c5bc46",
   "metadata": {},
   "source": [
    "As MLFlow only exposes the `predict` function, it is necessary to extract the internal model to have access to all the developed functions. These functions are necessary to perform some low level operations to evaluate the model. \n",
    "\n",
    "To keep these models and also additional information that will be computed, a nested dictionary is created."
   ]
  },
  {
   "cell_type": "code",
   "execution_count": 5,
   "id": "18c70e5e-4791-4bd6-9b49-4301eed9fcc5",
   "metadata": {},
   "outputs": [],
   "source": [
    "models = dict()\n",
    "\n",
    "models['base_model'] = {'model': extract_internal_model(base_model),\n",
    "                        'wrapped_model': base_model}\n",
    "models['modified_model'] = {'model': extract_internal_model(modified_model),\n",
    "                            'wrapped_model': modified_model}"
   ]
  },
  {
   "cell_type": "markdown",
   "id": "b1f9b227-69e3-42bb-b5e5-98ee91cbfa9d",
   "metadata": {},
   "source": [
    "## Evaluate Models\n",
    "\n",
    "Compute predictions and encode labels to be able to compare predictions with ground truth labels and compute metrics."
   ]
  },
  {
   "cell_type": "code",
   "execution_count": 6,
   "id": "7d069892-e64d-466f-ba4d-862d41b823b2",
   "metadata": {},
   "outputs": [
    {
     "data": {
      "text/html": [
       "<h3>base_model</h3>"
      ],
      "text/plain": [
       "<IPython.core.display.HTML object>"
      ]
     },
     "metadata": {},
     "output_type": "display_data"
    },
    {
     "name": "stdout",
     "output_type": "stream",
     "text": [
      " - Predictions: 1004\n",
      " - Sample: compra online, serviço, artigos eletro, artigos eletro, serviço\n",
      "\n",
      " - Encoded Predictions: 1004\n",
      " - Sample: 5, 16, 2, 2, 16\n"
     ]
    },
    {
     "data": {
      "text/html": [
       "<h3>modified_model</h3>"
      ],
      "text/plain": [
       "<IPython.core.display.HTML object>"
      ]
     },
     "metadata": {},
     "output_type": "display_data"
    },
    {
     "name": "stdout",
     "output_type": "stream",
     "text": [
      " - Predictions: 1004\n",
      " - Sample: compra online, serviço, artigos eletro, artigos eletro, serviço\n",
      "\n",
      " - Encoded Predictions: 1004\n",
      " - Sample: 5, 16, 2, 2, 16\n"
     ]
    }
   ],
   "source": [
    "for name, model_registry in models.items():\n",
    "    display(HTML(f'<h3>{name}</h3>'))\n",
    "    model = model_registry['model']\n",
    "   \n",
    "    predictions = model.predict(df)\n",
    "    print(f' - Predictions: {len(predictions)}')\n",
    "    print(f' - Sample: {\", \".join(predictions[:5])}')\n",
    "\n",
    "    encoded_predictions = model.encode_labels(predictions)\n",
    "    print(f'\\n - Encoded Predictions: {len(encoded_predictions)}')\n",
    "    print(f' - Sample: {\", \".join(map(str, encoded_predictions[:5]))}')\n",
    "    \n",
    "    models[name]['predictions'] = predictions\n",
    "    models[name]['encoded_predictions'] = encoded_predictions    "
   ]
  },
  {
   "cell_type": "markdown",
   "id": "907e1bab-198a-48fa-83f4-292812dfbff7",
   "metadata": {},
   "source": [
    "Preprocess and encode raw labels to be able to compare with the model generated labels."
   ]
  },
  {
   "cell_type": "code",
   "execution_count": 7,
   "id": "01cb342e-7456-4083-88d0-64050015cfd9",
   "metadata": {},
   "outputs": [
    {
     "data": {
      "text/html": [
       "<h3>base_model</h3>"
      ],
      "text/plain": [
       "<IPython.core.display.HTML object>"
      ]
     },
     "metadata": {},
     "output_type": "display_data"
    },
    {
     "name": "stdout",
     "output_type": "stream",
     "text": [
      "Labels: 1004\n",
      "Sample: artigos eletro, compra online, compra online, artigos eletro, serviço\n",
      "\n",
      "Encoded Labels: 1004\n",
      "Sample: 2, 5, 5, 2, 16\n"
     ]
    },
    {
     "data": {
      "text/html": [
       "<h3>modified_model</h3>"
      ],
      "text/plain": [
       "<IPython.core.display.HTML object>"
      ]
     },
     "metadata": {},
     "output_type": "display_data"
    },
    {
     "name": "stdout",
     "output_type": "stream",
     "text": [
      "Labels: 1004\n",
      "Sample: artigos eletro, compra online, compra online, artigos eletro, serviço\n",
      "\n",
      "Encoded Labels: 1004\n",
      "Sample: 2, 5, 5, 2, 16\n"
     ]
    }
   ],
   "source": [
    "for name, model_registry in models.items():\n",
    "    display(HTML(f'<h3>{name}</h3>'))\n",
    "    model = model_registry['model']\n",
    "\n",
    "    raw_labels = df['grupo_estabelecimento'].tolist()\n",
    "    labels = [standardize_label(l) for l in raw_labels]\n",
    "\n",
    "    print(f'Labels: {len(labels)}')\n",
    "    print(f'Sample: {\", \".join(map(str, labels[:5]))}')\n",
    "\n",
    "    encoded_labels = model.encode_labels(labels)\n",
    "\n",
    "    print(f'\\nEncoded Labels: {len(encoded_labels)}')\n",
    "    print(f'Sample: {\", \".join(map(str, encoded_labels[:5]))}')\n",
    "    \n",
    "    models[name]['labels'] = labels\n",
    "    models[name]['encoded_labels'] = encoded_labels\n",
    "    models[name]['classes'] =  model.label_encoder.classes_    "
   ]
  },
  {
   "cell_type": "markdown",
   "id": "c38c731b-6631-49a9-a7d0-09acec751887",
   "metadata": {},
   "source": [
    "Compute metrics"
   ]
  },
  {
   "cell_type": "code",
   "execution_count": 8,
   "id": "55401059-8b9a-4b4e-8686-3806054b17e9",
   "metadata": {},
   "outputs": [
    {
     "data": {
      "text/html": [
       "<h3>Base model</h3>"
      ],
      "text/plain": [
       "<IPython.core.display.HTML object>"
      ]
     },
     "metadata": {},
     "output_type": "display_data"
    },
    {
     "data": {
      "text/html": [
       "<h4>Metrics</h4>"
      ],
      "text/plain": [
       "<IPython.core.display.HTML object>"
      ]
     },
     "metadata": {},
     "output_type": "display_data"
    },
    {
     "data": {
      "text/html": [
       "<div>\n",
       "<style scoped>\n",
       "    .dataframe tbody tr th:only-of-type {\n",
       "        vertical-align: middle;\n",
       "    }\n",
       "\n",
       "    .dataframe tbody tr th {\n",
       "        vertical-align: top;\n",
       "    }\n",
       "\n",
       "    .dataframe thead th {\n",
       "        text-align: right;\n",
       "    }\n",
       "</style>\n",
       "<table border=\"1\" class=\"dataframe\">\n",
       "  <thead>\n",
       "    <tr style=\"text-align: right;\">\n",
       "      <th></th>\n",
       "      <th>metric</th>\n",
       "      <th>value</th>\n",
       "    </tr>\n",
       "  </thead>\n",
       "  <tbody>\n",
       "    <tr>\n",
       "      <th>0</th>\n",
       "      <td>macro_precision</td>\n",
       "      <td>0.204147</td>\n",
       "    </tr>\n",
       "    <tr>\n",
       "      <th>1</th>\n",
       "      <td>macro_recall</td>\n",
       "      <td>0.173658</td>\n",
       "    </tr>\n",
       "    <tr>\n",
       "      <th>2</th>\n",
       "      <td>macro_f1</td>\n",
       "      <td>0.171323</td>\n",
       "    </tr>\n",
       "    <tr>\n",
       "      <th>3</th>\n",
       "      <td>micro_precision</td>\n",
       "      <td>0.397410</td>\n",
       "    </tr>\n",
       "    <tr>\n",
       "      <th>4</th>\n",
       "      <td>micro_recall</td>\n",
       "      <td>0.397410</td>\n",
       "    </tr>\n",
       "    <tr>\n",
       "      <th>5</th>\n",
       "      <td>micro_f1</td>\n",
       "      <td>0.397410</td>\n",
       "    </tr>\n",
       "    <tr>\n",
       "      <th>6</th>\n",
       "      <td>weighted_precision</td>\n",
       "      <td>0.379709</td>\n",
       "    </tr>\n",
       "    <tr>\n",
       "      <th>7</th>\n",
       "      <td>weighted_recall</td>\n",
       "      <td>0.397410</td>\n",
       "    </tr>\n",
       "    <tr>\n",
       "      <th>8</th>\n",
       "      <td>weighted_f1</td>\n",
       "      <td>0.381886</td>\n",
       "    </tr>\n",
       "  </tbody>\n",
       "</table>\n",
       "</div>"
      ],
      "text/plain": [
       "               metric     value\n",
       "0     macro_precision  0.204147\n",
       "1        macro_recall  0.173658\n",
       "2            macro_f1  0.171323\n",
       "3     micro_precision  0.397410\n",
       "4        micro_recall  0.397410\n",
       "5            micro_f1  0.397410\n",
       "6  weighted_precision  0.379709\n",
       "7     weighted_recall  0.397410\n",
       "8         weighted_f1  0.381886"
      ]
     },
     "metadata": {},
     "output_type": "display_data"
    },
    {
     "data": {
      "text/html": [
       "<h4>Class Metrics</h4>"
      ],
      "text/plain": [
       "<IPython.core.display.HTML object>"
      ]
     },
     "metadata": {},
     "output_type": "display_data"
    },
    {
     "data": {
      "text/html": [
       "<style type=\"text/css\">\n",
       "#T_3dbf4_row0_col0, #T_3dbf4_row1_col0, #T_3dbf4_row2_col0, #T_3dbf4_row3_col0, #T_3dbf4_row4_col0, #T_3dbf4_row5_col0, #T_3dbf4_row6_col0, #T_3dbf4_row8_col0, #T_3dbf4_row9_col0, #T_3dbf4_row10_col0, #T_3dbf4_row11_col0, #T_3dbf4_row12_col0, #T_3dbf4_row13_col0, #T_3dbf4_row14_col0, #T_3dbf4_row15_col0, #T_3dbf4_row16_col0, #T_3dbf4_row17_col0, #T_3dbf4_row18_col0, #T_3dbf4_row19_col0, #T_3dbf4_row20_col0, #T_3dbf4_row21_col0 {\n",
       "  font-weight: bold;\n",
       "}\n",
       "#T_3dbf4_row0_col1, #T_3dbf4_row0_col2, #T_3dbf4_row0_col3, #T_3dbf4_row13_col1 {\n",
       "  background-color: #7fb3d5;\n",
       "}\n",
       "#T_3dbf4_row7_col0 {\n",
       "  background-color: #d2b4de;\n",
       "  font-weight: bold;\n",
       "}\n",
       "</style>\n",
       "<table id=\"T_3dbf4\">\n",
       "  <thead>\n",
       "    <tr>\n",
       "      <th class=\"blank level0\" >&nbsp;</th>\n",
       "      <th id=\"T_3dbf4_level0_col0\" class=\"col_heading level0 col0\" >class</th>\n",
       "      <th id=\"T_3dbf4_level0_col1\" class=\"col_heading level0 col1\" >precision</th>\n",
       "      <th id=\"T_3dbf4_level0_col2\" class=\"col_heading level0 col2\" >recall</th>\n",
       "      <th id=\"T_3dbf4_level0_col3\" class=\"col_heading level0 col3\" >f1-score</th>\n",
       "      <th id=\"T_3dbf4_level0_col4\" class=\"col_heading level0 col4\" >support</th>\n",
       "    </tr>\n",
       "  </thead>\n",
       "  <tbody>\n",
       "    <tr>\n",
       "      <th id=\"T_3dbf4_level0_row0\" class=\"row_heading level0 row0\" >0</th>\n",
       "      <td id=\"T_3dbf4_row0_col0\" class=\"data row0 col0\" >serviço</td>\n",
       "      <td id=\"T_3dbf4_row0_col1\" class=\"data row0 col1\" >0.589235</td>\n",
       "      <td id=\"T_3dbf4_row0_col2\" class=\"data row0 col2\" >0.640000</td>\n",
       "      <td id=\"T_3dbf4_row0_col3\" class=\"data row0 col3\" >0.613569</td>\n",
       "      <td id=\"T_3dbf4_row0_col4\" class=\"data row0 col4\" >325</td>\n",
       "    </tr>\n",
       "    <tr>\n",
       "      <th id=\"T_3dbf4_level0_row1\" class=\"row_heading level0 row1\" >1</th>\n",
       "      <td id=\"T_3dbf4_row1_col0\" class=\"data row1 col0\" >restaurante</td>\n",
       "      <td id=\"T_3dbf4_row1_col1\" class=\"data row1 col1\" >0.364486</td>\n",
       "      <td id=\"T_3dbf4_row1_col2\" class=\"data row1 col2\" >0.478528</td>\n",
       "      <td id=\"T_3dbf4_row1_col3\" class=\"data row1 col3\" >0.413793</td>\n",
       "      <td id=\"T_3dbf4_row1_col4\" class=\"data row1 col4\" >163</td>\n",
       "    </tr>\n",
       "    <tr>\n",
       "      <th id=\"T_3dbf4_level0_row2\" class=\"row_heading level0 row2\" >2</th>\n",
       "      <td id=\"T_3dbf4_row2_col0\" class=\"data row2 col0\" >varejo</td>\n",
       "      <td id=\"T_3dbf4_row2_col1\" class=\"data row2 col1\" >0.317829</td>\n",
       "      <td id=\"T_3dbf4_row2_col2\" class=\"data row2 col2\" >0.273333</td>\n",
       "      <td id=\"T_3dbf4_row2_col3\" class=\"data row2 col3\" >0.293907</td>\n",
       "      <td id=\"T_3dbf4_row2_col4\" class=\"data row2 col4\" >150</td>\n",
       "    </tr>\n",
       "    <tr>\n",
       "      <th id=\"T_3dbf4_level0_row3\" class=\"row_heading level0 row3\" >3</th>\n",
       "      <td id=\"T_3dbf4_row3_col0\" class=\"data row3 col0\" >supermercados</td>\n",
       "      <td id=\"T_3dbf4_row3_col1\" class=\"data row3 col1\" >0.155172</td>\n",
       "      <td id=\"T_3dbf4_row3_col2\" class=\"data row3 col2\" >0.200000</td>\n",
       "      <td id=\"T_3dbf4_row3_col3\" class=\"data row3 col3\" >0.174757</td>\n",
       "      <td id=\"T_3dbf4_row3_col4\" class=\"data row3 col4\" >90</td>\n",
       "    </tr>\n",
       "    <tr>\n",
       "      <th id=\"T_3dbf4_level0_row4\" class=\"row_heading level0 row4\" >4</th>\n",
       "      <td id=\"T_3dbf4_row4_col0\" class=\"data row4 col0\" >farmácias</td>\n",
       "      <td id=\"T_3dbf4_row4_col1\" class=\"data row4 col1\" >0.176471</td>\n",
       "      <td id=\"T_3dbf4_row4_col2\" class=\"data row4 col2\" >0.052632</td>\n",
       "      <td id=\"T_3dbf4_row4_col3\" class=\"data row4 col3\" >0.081081</td>\n",
       "      <td id=\"T_3dbf4_row4_col4\" class=\"data row4 col4\" >57</td>\n",
       "    </tr>\n",
       "    <tr>\n",
       "      <th id=\"T_3dbf4_level0_row5\" class=\"row_heading level0 row5\" >5</th>\n",
       "      <td id=\"T_3dbf4_row5_col0\" class=\"data row5 col0\" >compra online</td>\n",
       "      <td id=\"T_3dbf4_row5_col1\" class=\"data row5 col1\" >0.366667</td>\n",
       "      <td id=\"T_3dbf4_row5_col2\" class=\"data row5 col2\" >0.448980</td>\n",
       "      <td id=\"T_3dbf4_row5_col3\" class=\"data row5 col3\" >0.403670</td>\n",
       "      <td id=\"T_3dbf4_row5_col4\" class=\"data row5 col4\" >49</td>\n",
       "    </tr>\n",
       "    <tr>\n",
       "      <th id=\"T_3dbf4_level0_row6\" class=\"row_heading level0 row6\" >6</th>\n",
       "      <td id=\"T_3dbf4_row6_col0\" class=\"data row6 col0\" >posto de gás</td>\n",
       "      <td id=\"T_3dbf4_row6_col1\" class=\"data row6 col1\" >0.363636</td>\n",
       "      <td id=\"T_3dbf4_row6_col2\" class=\"data row6 col2\" >0.195122</td>\n",
       "      <td id=\"T_3dbf4_row6_col3\" class=\"data row6 col3\" >0.253968</td>\n",
       "      <td id=\"T_3dbf4_row6_col4\" class=\"data row6 col4\" >41</td>\n",
       "    </tr>\n",
       "    <tr>\n",
       "      <th id=\"T_3dbf4_level0_row7\" class=\"row_heading level0 row7\" >7</th>\n",
       "      <td id=\"T_3dbf4_row7_col0\" class=\"data row7 col0\" >vestuário</td>\n",
       "      <td id=\"T_3dbf4_row7_col1\" class=\"data row7 col1\" >0.166667</td>\n",
       "      <td id=\"T_3dbf4_row7_col2\" class=\"data row7 col2\" >0.153846</td>\n",
       "      <td id=\"T_3dbf4_row7_col3\" class=\"data row7 col3\" >0.160000</td>\n",
       "      <td id=\"T_3dbf4_row7_col4\" class=\"data row7 col4\" >39</td>\n",
       "    </tr>\n",
       "    <tr>\n",
       "      <th id=\"T_3dbf4_level0_row8\" class=\"row_heading level0 row8\" >8</th>\n",
       "      <td id=\"T_3dbf4_row8_col0\" class=\"data row8 col0\" >artigos eletro</td>\n",
       "      <td id=\"T_3dbf4_row8_col1\" class=\"data row8 col1\" >0.312500</td>\n",
       "      <td id=\"T_3dbf4_row8_col2\" class=\"data row8 col2\" >0.303030</td>\n",
       "      <td id=\"T_3dbf4_row8_col3\" class=\"data row8 col3\" >0.307692</td>\n",
       "      <td id=\"T_3dbf4_row8_col4\" class=\"data row8 col4\" >33</td>\n",
       "    </tr>\n",
       "    <tr>\n",
       "      <th id=\"T_3dbf4_level0_row9\" class=\"row_heading level0 row9\" >9</th>\n",
       "      <td id=\"T_3dbf4_row9_col0\" class=\"data row9 col0\" >loja de departamento</td>\n",
       "      <td id=\"T_3dbf4_row9_col1\" class=\"data row9 col1\" >0.000000</td>\n",
       "      <td id=\"T_3dbf4_row9_col2\" class=\"data row9 col2\" >0.000000</td>\n",
       "      <td id=\"T_3dbf4_row9_col3\" class=\"data row9 col3\" >0.000000</td>\n",
       "      <td id=\"T_3dbf4_row9_col4\" class=\"data row9 col4\" >16</td>\n",
       "    </tr>\n",
       "    <tr>\n",
       "      <th id=\"T_3dbf4_level0_row10\" class=\"row_heading level0 row10\" >10</th>\n",
       "      <td id=\"T_3dbf4_row10_col0\" class=\"data row10 col0\" >companhia aérea</td>\n",
       "      <td id=\"T_3dbf4_row10_col1\" class=\"data row10 col1\" >0.428571</td>\n",
       "      <td id=\"T_3dbf4_row10_col2\" class=\"data row10 col2\" >0.375000</td>\n",
       "      <td id=\"T_3dbf4_row10_col3\" class=\"data row10 col3\" >0.400000</td>\n",
       "      <td id=\"T_3dbf4_row10_col4\" class=\"data row10 col4\" >8</td>\n",
       "    </tr>\n",
       "    <tr>\n",
       "      <th id=\"T_3dbf4_level0_row11\" class=\"row_heading level0 row11\" >11</th>\n",
       "      <td id=\"T_3dbf4_row11_col0\" class=\"data row11 col0\" >agência turismo</td>\n",
       "      <td id=\"T_3dbf4_row11_col1\" class=\"data row11 col1\" >0.000000</td>\n",
       "      <td id=\"T_3dbf4_row11_col2\" class=\"data row11 col2\" >0.000000</td>\n",
       "      <td id=\"T_3dbf4_row11_col3\" class=\"data row11 col3\" >0.000000</td>\n",
       "      <td id=\"T_3dbf4_row11_col4\" class=\"data row11 col4\" >6</td>\n",
       "    </tr>\n",
       "    <tr>\n",
       "      <th id=\"T_3dbf4_level0_row12\" class=\"row_heading level0 row12\" >12</th>\n",
       "      <td id=\"T_3dbf4_row12_col0\" class=\"data row12 col0\" >sem ramo</td>\n",
       "      <td id=\"T_3dbf4_row12_col1\" class=\"data row12 col1\" >0.000000</td>\n",
       "      <td id=\"T_3dbf4_row12_col2\" class=\"data row12 col2\" >0.000000</td>\n",
       "      <td id=\"T_3dbf4_row12_col3\" class=\"data row12 col3\" >0.000000</td>\n",
       "      <td id=\"T_3dbf4_row12_col4\" class=\"data row12 col4\" >6</td>\n",
       "    </tr>\n",
       "    <tr>\n",
       "      <th id=\"T_3dbf4_level0_row13\" class=\"row_heading level0 row13\" >13</th>\n",
       "      <td id=\"T_3dbf4_row13_col0\" class=\"data row13 col0\" >móveis e decoração</td>\n",
       "      <td id=\"T_3dbf4_row13_col1\" class=\"data row13 col1\" >1.000000</td>\n",
       "      <td id=\"T_3dbf4_row13_col2\" class=\"data row13 col2\" >0.200000</td>\n",
       "      <td id=\"T_3dbf4_row13_col3\" class=\"data row13 col3\" >0.333333</td>\n",
       "      <td id=\"T_3dbf4_row13_col4\" class=\"data row13 col4\" >5</td>\n",
       "    </tr>\n",
       "    <tr>\n",
       "      <th id=\"T_3dbf4_level0_row14\" class=\"row_heading level0 row14\" >14</th>\n",
       "      <td id=\"T_3dbf4_row14_col0\" class=\"data row14 col0\" >materiais construção</td>\n",
       "      <td id=\"T_3dbf4_row14_col1\" class=\"data row14 col1\" >0.000000</td>\n",
       "      <td id=\"T_3dbf4_row14_col2\" class=\"data row14 col2\" >0.000000</td>\n",
       "      <td id=\"T_3dbf4_row14_col3\" class=\"data row14 col3\" >0.000000</td>\n",
       "      <td id=\"T_3dbf4_row14_col4\" class=\"data row14 col4\" >4</td>\n",
       "    </tr>\n",
       "    <tr>\n",
       "      <th id=\"T_3dbf4_level0_row15\" class=\"row_heading level0 row15\" >15</th>\n",
       "      <td id=\"T_3dbf4_row15_col0\" class=\"data row15 col0\" >-1</td>\n",
       "      <td id=\"T_3dbf4_row15_col1\" class=\"data row15 col1\" >0.000000</td>\n",
       "      <td id=\"T_3dbf4_row15_col2\" class=\"data row15 col2\" >0.000000</td>\n",
       "      <td id=\"T_3dbf4_row15_col3\" class=\"data row15 col3\" >0.000000</td>\n",
       "      <td id=\"T_3dbf4_row15_col4\" class=\"data row15 col4\" >4</td>\n",
       "    </tr>\n",
       "    <tr>\n",
       "      <th id=\"T_3dbf4_level0_row16\" class=\"row_heading level0 row16\" >16</th>\n",
       "      <td id=\"T_3dbf4_row16_col0\" class=\"data row16 col0\" >hotéis</td>\n",
       "      <td id=\"T_3dbf4_row16_col1\" class=\"data row16 col1\" >0.000000</td>\n",
       "      <td id=\"T_3dbf4_row16_col2\" class=\"data row16 col2\" >0.000000</td>\n",
       "      <td id=\"T_3dbf4_row16_col3\" class=\"data row16 col3\" >0.000000</td>\n",
       "      <td id=\"T_3dbf4_row16_col4\" class=\"data row16 col4\" >3</td>\n",
       "    </tr>\n",
       "    <tr>\n",
       "      <th id=\"T_3dbf4_level0_row17\" class=\"row_heading level0 row17\" >17</th>\n",
       "      <td id=\"T_3dbf4_row17_col0\" class=\"data row17 col0\" >hospitais e clínicas</td>\n",
       "      <td id=\"T_3dbf4_row17_col1\" class=\"data row17 col1\" >0.250000</td>\n",
       "      <td id=\"T_3dbf4_row17_col2\" class=\"data row17 col2\" >0.500000</td>\n",
       "      <td id=\"T_3dbf4_row17_col3\" class=\"data row17 col3\" >0.333333</td>\n",
       "      <td id=\"T_3dbf4_row17_col4\" class=\"data row17 col4\" >2</td>\n",
       "    </tr>\n",
       "    <tr>\n",
       "      <th id=\"T_3dbf4_level0_row18\" class=\"row_heading level0 row18\" >18</th>\n",
       "      <td id=\"T_3dbf4_row18_col0\" class=\"data row18 col0\" >auto-peças</td>\n",
       "      <td id=\"T_3dbf4_row18_col1\" class=\"data row18 col1\" >0.000000</td>\n",
       "      <td id=\"T_3dbf4_row18_col2\" class=\"data row18 col2\" >0.000000</td>\n",
       "      <td id=\"T_3dbf4_row18_col3\" class=\"data row18 col3\" >0.000000</td>\n",
       "      <td id=\"T_3dbf4_row18_col4\" class=\"data row18 col4\" >2</td>\n",
       "    </tr>\n",
       "    <tr>\n",
       "      <th id=\"T_3dbf4_level0_row19\" class=\"row_heading level0 row19\" >19</th>\n",
       "      <td id=\"T_3dbf4_row19_col0\" class=\"data row19 col0\" >joalheria</td>\n",
       "      <td id=\"T_3dbf4_row19_col1\" class=\"data row19 col1\" >0.000000</td>\n",
       "      <td id=\"T_3dbf4_row19_col2\" class=\"data row19 col2\" >0.000000</td>\n",
       "      <td id=\"T_3dbf4_row19_col3\" class=\"data row19 col3\" >0.000000</td>\n",
       "      <td id=\"T_3dbf4_row19_col4\" class=\"data row19 col4\" >1</td>\n",
       "    </tr>\n",
       "    <tr>\n",
       "      <th id=\"T_3dbf4_level0_row20\" class=\"row_heading level0 row20\" >20</th>\n",
       "      <td id=\"T_3dbf4_row20_col0\" class=\"data row20 col0\" >transação financeira</td>\n",
       "      <td id=\"T_3dbf4_row20_col1\" class=\"data row20 col1\" >0.000000</td>\n",
       "      <td id=\"T_3dbf4_row20_col2\" class=\"data row20 col2\" >0.000000</td>\n",
       "      <td id=\"T_3dbf4_row20_col3\" class=\"data row20 col3\" >0.000000</td>\n",
       "      <td id=\"T_3dbf4_row20_col4\" class=\"data row20 col4\" >0</td>\n",
       "    </tr>\n",
       "    <tr>\n",
       "      <th id=\"T_3dbf4_level0_row21\" class=\"row_heading level0 row21\" >21</th>\n",
       "      <td id=\"T_3dbf4_row21_col0\" class=\"data row21 col0\" >aluguel carro</td>\n",
       "      <td id=\"T_3dbf4_row21_col1\" class=\"data row21 col1\" >0.000000</td>\n",
       "      <td id=\"T_3dbf4_row21_col2\" class=\"data row21 col2\" >0.000000</td>\n",
       "      <td id=\"T_3dbf4_row21_col3\" class=\"data row21 col3\" >0.000000</td>\n",
       "      <td id=\"T_3dbf4_row21_col4\" class=\"data row21 col4\" >0</td>\n",
       "    </tr>\n",
       "  </tbody>\n",
       "</table>\n"
      ],
      "text/plain": [
       "<pandas.io.formats.style.Styler at 0x7fd718141d60>"
      ]
     },
     "metadata": {},
     "output_type": "display_data"
    },
    {
     "name": "stdout",
     "output_type": "stream",
     "text": [
      "\n",
      "\n"
     ]
    },
    {
     "data": {
      "text/html": [
       "<h3>Modified model</h3>"
      ],
      "text/plain": [
       "<IPython.core.display.HTML object>"
      ]
     },
     "metadata": {},
     "output_type": "display_data"
    },
    {
     "data": {
      "text/html": [
       "<h4>Metrics</h4>"
      ],
      "text/plain": [
       "<IPython.core.display.HTML object>"
      ]
     },
     "metadata": {},
     "output_type": "display_data"
    },
    {
     "data": {
      "text/html": [
       "<div>\n",
       "<style scoped>\n",
       "    .dataframe tbody tr th:only-of-type {\n",
       "        vertical-align: middle;\n",
       "    }\n",
       "\n",
       "    .dataframe tbody tr th {\n",
       "        vertical-align: top;\n",
       "    }\n",
       "\n",
       "    .dataframe thead th {\n",
       "        text-align: right;\n",
       "    }\n",
       "</style>\n",
       "<table border=\"1\" class=\"dataframe\">\n",
       "  <thead>\n",
       "    <tr style=\"text-align: right;\">\n",
       "      <th></th>\n",
       "      <th>metric</th>\n",
       "      <th>value</th>\n",
       "    </tr>\n",
       "  </thead>\n",
       "  <tbody>\n",
       "    <tr>\n",
       "      <th>0</th>\n",
       "      <td>macro_precision</td>\n",
       "      <td>0.169641</td>\n",
       "    </tr>\n",
       "    <tr>\n",
       "      <th>1</th>\n",
       "      <td>macro_recall</td>\n",
       "      <td>0.163294</td>\n",
       "    </tr>\n",
       "    <tr>\n",
       "      <th>2</th>\n",
       "      <td>macro_f1</td>\n",
       "      <td>0.159068</td>\n",
       "    </tr>\n",
       "    <tr>\n",
       "      <th>3</th>\n",
       "      <td>micro_precision</td>\n",
       "      <td>0.393426</td>\n",
       "    </tr>\n",
       "    <tr>\n",
       "      <th>4</th>\n",
       "      <td>micro_recall</td>\n",
       "      <td>0.393426</td>\n",
       "    </tr>\n",
       "    <tr>\n",
       "      <th>5</th>\n",
       "      <td>micro_f1</td>\n",
       "      <td>0.393426</td>\n",
       "    </tr>\n",
       "    <tr>\n",
       "      <th>6</th>\n",
       "      <td>weighted_precision</td>\n",
       "      <td>0.365613</td>\n",
       "    </tr>\n",
       "    <tr>\n",
       "      <th>7</th>\n",
       "      <td>weighted_recall</td>\n",
       "      <td>0.393426</td>\n",
       "    </tr>\n",
       "    <tr>\n",
       "      <th>8</th>\n",
       "      <td>weighted_f1</td>\n",
       "      <td>0.372496</td>\n",
       "    </tr>\n",
       "  </tbody>\n",
       "</table>\n",
       "</div>"
      ],
      "text/plain": [
       "               metric     value\n",
       "0     macro_precision  0.169641\n",
       "1        macro_recall  0.163294\n",
       "2            macro_f1  0.159068\n",
       "3     micro_precision  0.393426\n",
       "4        micro_recall  0.393426\n",
       "5            micro_f1  0.393426\n",
       "6  weighted_precision  0.365613\n",
       "7     weighted_recall  0.393426\n",
       "8         weighted_f1  0.372496"
      ]
     },
     "metadata": {},
     "output_type": "display_data"
    },
    {
     "data": {
      "text/html": [
       "<h4>Class Metrics</h4>"
      ],
      "text/plain": [
       "<IPython.core.display.HTML object>"
      ]
     },
     "metadata": {},
     "output_type": "display_data"
    },
    {
     "data": {
      "text/html": [
       "<style type=\"text/css\">\n",
       "#T_db9cd_row0_col0, #T_db9cd_row1_col0, #T_db9cd_row2_col0, #T_db9cd_row3_col0, #T_db9cd_row4_col0, #T_db9cd_row5_col0, #T_db9cd_row6_col0, #T_db9cd_row8_col0, #T_db9cd_row9_col0, #T_db9cd_row10_col0, #T_db9cd_row11_col0, #T_db9cd_row12_col0, #T_db9cd_row13_col0, #T_db9cd_row14_col0, #T_db9cd_row15_col0, #T_db9cd_row16_col0, #T_db9cd_row17_col0, #T_db9cd_row18_col0, #T_db9cd_row19_col0, #T_db9cd_row20_col0, #T_db9cd_row21_col0 {\n",
       "  font-weight: bold;\n",
       "}\n",
       "#T_db9cd_row0_col1, #T_db9cd_row0_col2, #T_db9cd_row0_col3, #T_db9cd_row5_col2 {\n",
       "  background-color: #7fb3d5;\n",
       "}\n",
       "#T_db9cd_row7_col0 {\n",
       "  background-color: #d2b4de;\n",
       "  font-weight: bold;\n",
       "}\n",
       "</style>\n",
       "<table id=\"T_db9cd\">\n",
       "  <thead>\n",
       "    <tr>\n",
       "      <th class=\"blank level0\" >&nbsp;</th>\n",
       "      <th id=\"T_db9cd_level0_col0\" class=\"col_heading level0 col0\" >class</th>\n",
       "      <th id=\"T_db9cd_level0_col1\" class=\"col_heading level0 col1\" >precision</th>\n",
       "      <th id=\"T_db9cd_level0_col2\" class=\"col_heading level0 col2\" >recall</th>\n",
       "      <th id=\"T_db9cd_level0_col3\" class=\"col_heading level0 col3\" >f1-score</th>\n",
       "      <th id=\"T_db9cd_level0_col4\" class=\"col_heading level0 col4\" >support</th>\n",
       "    </tr>\n",
       "  </thead>\n",
       "  <tbody>\n",
       "    <tr>\n",
       "      <th id=\"T_db9cd_level0_row0\" class=\"row_heading level0 row0\" >0</th>\n",
       "      <td id=\"T_db9cd_row0_col0\" class=\"data row0 col0\" >serviço</td>\n",
       "      <td id=\"T_db9cd_row0_col1\" class=\"data row0 col1\" >0.568306</td>\n",
       "      <td id=\"T_db9cd_row0_col2\" class=\"data row0 col2\" >0.640000</td>\n",
       "      <td id=\"T_db9cd_row0_col3\" class=\"data row0 col3\" >0.602026</td>\n",
       "      <td id=\"T_db9cd_row0_col4\" class=\"data row0 col4\" >325</td>\n",
       "    </tr>\n",
       "    <tr>\n",
       "      <th id=\"T_db9cd_level0_row1\" class=\"row_heading level0 row1\" >1</th>\n",
       "      <td id=\"T_db9cd_row1_col0\" class=\"data row1 col0\" >restaurante</td>\n",
       "      <td id=\"T_db9cd_row1_col1\" class=\"data row1 col1\" >0.357466</td>\n",
       "      <td id=\"T_db9cd_row1_col2\" class=\"data row1 col2\" >0.484663</td>\n",
       "      <td id=\"T_db9cd_row1_col3\" class=\"data row1 col3\" >0.411458</td>\n",
       "      <td id=\"T_db9cd_row1_col4\" class=\"data row1 col4\" >163</td>\n",
       "    </tr>\n",
       "    <tr>\n",
       "      <th id=\"T_db9cd_level0_row2\" class=\"row_heading level0 row2\" >2</th>\n",
       "      <td id=\"T_db9cd_row2_col0\" class=\"data row2 col0\" >varejo</td>\n",
       "      <td id=\"T_db9cd_row2_col1\" class=\"data row2 col1\" >0.309524</td>\n",
       "      <td id=\"T_db9cd_row2_col2\" class=\"data row2 col2\" >0.260000</td>\n",
       "      <td id=\"T_db9cd_row2_col3\" class=\"data row2 col3\" >0.282609</td>\n",
       "      <td id=\"T_db9cd_row2_col4\" class=\"data row2 col4\" >150</td>\n",
       "    </tr>\n",
       "    <tr>\n",
       "      <th id=\"T_db9cd_level0_row3\" class=\"row_heading level0 row3\" >3</th>\n",
       "      <td id=\"T_db9cd_row3_col0\" class=\"data row3 col0\" >supermercados</td>\n",
       "      <td id=\"T_db9cd_row3_col1\" class=\"data row3 col1\" >0.158879</td>\n",
       "      <td id=\"T_db9cd_row3_col2\" class=\"data row3 col2\" >0.188889</td>\n",
       "      <td id=\"T_db9cd_row3_col3\" class=\"data row3 col3\" >0.172589</td>\n",
       "      <td id=\"T_db9cd_row3_col4\" class=\"data row3 col4\" >90</td>\n",
       "    </tr>\n",
       "    <tr>\n",
       "      <th id=\"T_db9cd_level0_row4\" class=\"row_heading level0 row4\" >4</th>\n",
       "      <td id=\"T_db9cd_row4_col0\" class=\"data row4 col0\" >farmácias</td>\n",
       "      <td id=\"T_db9cd_row4_col1\" class=\"data row4 col1\" >0.153846</td>\n",
       "      <td id=\"T_db9cd_row4_col2\" class=\"data row4 col2\" >0.035088</td>\n",
       "      <td id=\"T_db9cd_row4_col3\" class=\"data row4 col3\" >0.057143</td>\n",
       "      <td id=\"T_db9cd_row4_col4\" class=\"data row4 col4\" >57</td>\n",
       "    </tr>\n",
       "    <tr>\n",
       "      <th id=\"T_db9cd_level0_row5\" class=\"row_heading level0 row5\" >5</th>\n",
       "      <td id=\"T_db9cd_row5_col0\" class=\"data row5 col0\" >compra online</td>\n",
       "      <td id=\"T_db9cd_row5_col1\" class=\"data row5 col1\" >0.406250</td>\n",
       "      <td id=\"T_db9cd_row5_col2\" class=\"data row5 col2\" >0.530612</td>\n",
       "      <td id=\"T_db9cd_row5_col3\" class=\"data row5 col3\" >0.460177</td>\n",
       "      <td id=\"T_db9cd_row5_col4\" class=\"data row5 col4\" >49</td>\n",
       "    </tr>\n",
       "    <tr>\n",
       "      <th id=\"T_db9cd_level0_row6\" class=\"row_heading level0 row6\" >6</th>\n",
       "      <td id=\"T_db9cd_row6_col0\" class=\"data row6 col0\" >posto de gás</td>\n",
       "      <td id=\"T_db9cd_row6_col1\" class=\"data row6 col1\" >0.304348</td>\n",
       "      <td id=\"T_db9cd_row6_col2\" class=\"data row6 col2\" >0.170732</td>\n",
       "      <td id=\"T_db9cd_row6_col3\" class=\"data row6 col3\" >0.218750</td>\n",
       "      <td id=\"T_db9cd_row6_col4\" class=\"data row6 col4\" >41</td>\n",
       "    </tr>\n",
       "    <tr>\n",
       "      <th id=\"T_db9cd_level0_row7\" class=\"row_heading level0 row7\" >7</th>\n",
       "      <td id=\"T_db9cd_row7_col0\" class=\"data row7 col0\" >vestuário</td>\n",
       "      <td id=\"T_db9cd_row7_col1\" class=\"data row7 col1\" >0.114286</td>\n",
       "      <td id=\"T_db9cd_row7_col2\" class=\"data row7 col2\" >0.102564</td>\n",
       "      <td id=\"T_db9cd_row7_col3\" class=\"data row7 col3\" >0.108108</td>\n",
       "      <td id=\"T_db9cd_row7_col4\" class=\"data row7 col4\" >39</td>\n",
       "    </tr>\n",
       "    <tr>\n",
       "      <th id=\"T_db9cd_level0_row8\" class=\"row_heading level0 row8\" >8</th>\n",
       "      <td id=\"T_db9cd_row8_col0\" class=\"data row8 col0\" >artigos eletro</td>\n",
       "      <td id=\"T_db9cd_row8_col1\" class=\"data row8 col1\" >0.275862</td>\n",
       "      <td id=\"T_db9cd_row8_col2\" class=\"data row8 col2\" >0.242424</td>\n",
       "      <td id=\"T_db9cd_row8_col3\" class=\"data row8 col3\" >0.258065</td>\n",
       "      <td id=\"T_db9cd_row8_col4\" class=\"data row8 col4\" >33</td>\n",
       "    </tr>\n",
       "    <tr>\n",
       "      <th id=\"T_db9cd_level0_row9\" class=\"row_heading level0 row9\" >9</th>\n",
       "      <td id=\"T_db9cd_row9_col0\" class=\"data row9 col0\" >loja de departamento</td>\n",
       "      <td id=\"T_db9cd_row9_col1\" class=\"data row9 col1\" >0.250000</td>\n",
       "      <td id=\"T_db9cd_row9_col2\" class=\"data row9 col2\" >0.062500</td>\n",
       "      <td id=\"T_db9cd_row9_col3\" class=\"data row9 col3\" >0.100000</td>\n",
       "      <td id=\"T_db9cd_row9_col4\" class=\"data row9 col4\" >16</td>\n",
       "    </tr>\n",
       "    <tr>\n",
       "      <th id=\"T_db9cd_level0_row10\" class=\"row_heading level0 row10\" >10</th>\n",
       "      <td id=\"T_db9cd_row10_col0\" class=\"data row10 col0\" >companhia aérea</td>\n",
       "      <td id=\"T_db9cd_row10_col1\" class=\"data row10 col1\" >0.500000</td>\n",
       "      <td id=\"T_db9cd_row10_col2\" class=\"data row10 col2\" >0.375000</td>\n",
       "      <td id=\"T_db9cd_row10_col3\" class=\"data row10 col3\" >0.428571</td>\n",
       "      <td id=\"T_db9cd_row10_col4\" class=\"data row10 col4\" >8</td>\n",
       "    </tr>\n",
       "    <tr>\n",
       "      <th id=\"T_db9cd_level0_row11\" class=\"row_heading level0 row11\" >11</th>\n",
       "      <td id=\"T_db9cd_row11_col0\" class=\"data row11 col0\" >agência turismo</td>\n",
       "      <td id=\"T_db9cd_row11_col1\" class=\"data row11 col1\" >0.000000</td>\n",
       "      <td id=\"T_db9cd_row11_col2\" class=\"data row11 col2\" >0.000000</td>\n",
       "      <td id=\"T_db9cd_row11_col3\" class=\"data row11 col3\" >0.000000</td>\n",
       "      <td id=\"T_db9cd_row11_col4\" class=\"data row11 col4\" >6</td>\n",
       "    </tr>\n",
       "    <tr>\n",
       "      <th id=\"T_db9cd_level0_row12\" class=\"row_heading level0 row12\" >12</th>\n",
       "      <td id=\"T_db9cd_row12_col0\" class=\"data row12 col0\" >sem ramo</td>\n",
       "      <td id=\"T_db9cd_row12_col1\" class=\"data row12 col1\" >0.000000</td>\n",
       "      <td id=\"T_db9cd_row12_col2\" class=\"data row12 col2\" >0.000000</td>\n",
       "      <td id=\"T_db9cd_row12_col3\" class=\"data row12 col3\" >0.000000</td>\n",
       "      <td id=\"T_db9cd_row12_col4\" class=\"data row12 col4\" >6</td>\n",
       "    </tr>\n",
       "    <tr>\n",
       "      <th id=\"T_db9cd_level0_row13\" class=\"row_heading level0 row13\" >13</th>\n",
       "      <td id=\"T_db9cd_row13_col0\" class=\"data row13 col0\" >móveis e decoração</td>\n",
       "      <td id=\"T_db9cd_row13_col1\" class=\"data row13 col1\" >0.000000</td>\n",
       "      <td id=\"T_db9cd_row13_col2\" class=\"data row13 col2\" >0.000000</td>\n",
       "      <td id=\"T_db9cd_row13_col3\" class=\"data row13 col3\" >0.000000</td>\n",
       "      <td id=\"T_db9cd_row13_col4\" class=\"data row13 col4\" >5</td>\n",
       "    </tr>\n",
       "    <tr>\n",
       "      <th id=\"T_db9cd_level0_row14\" class=\"row_heading level0 row14\" >14</th>\n",
       "      <td id=\"T_db9cd_row14_col0\" class=\"data row14 col0\" >materiais construção</td>\n",
       "      <td id=\"T_db9cd_row14_col1\" class=\"data row14 col1\" >0.000000</td>\n",
       "      <td id=\"T_db9cd_row14_col2\" class=\"data row14 col2\" >0.000000</td>\n",
       "      <td id=\"T_db9cd_row14_col3\" class=\"data row14 col3\" >0.000000</td>\n",
       "      <td id=\"T_db9cd_row14_col4\" class=\"data row14 col4\" >4</td>\n",
       "    </tr>\n",
       "    <tr>\n",
       "      <th id=\"T_db9cd_level0_row15\" class=\"row_heading level0 row15\" >15</th>\n",
       "      <td id=\"T_db9cd_row15_col0\" class=\"data row15 col0\" >-1</td>\n",
       "      <td id=\"T_db9cd_row15_col1\" class=\"data row15 col1\" >0.000000</td>\n",
       "      <td id=\"T_db9cd_row15_col2\" class=\"data row15 col2\" >0.000000</td>\n",
       "      <td id=\"T_db9cd_row15_col3\" class=\"data row15 col3\" >0.000000</td>\n",
       "      <td id=\"T_db9cd_row15_col4\" class=\"data row15 col4\" >4</td>\n",
       "    </tr>\n",
       "    <tr>\n",
       "      <th id=\"T_db9cd_level0_row16\" class=\"row_heading level0 row16\" >16</th>\n",
       "      <td id=\"T_db9cd_row16_col0\" class=\"data row16 col0\" >hotéis</td>\n",
       "      <td id=\"T_db9cd_row16_col1\" class=\"data row16 col1\" >0.000000</td>\n",
       "      <td id=\"T_db9cd_row16_col2\" class=\"data row16 col2\" >0.000000</td>\n",
       "      <td id=\"T_db9cd_row16_col3\" class=\"data row16 col3\" >0.000000</td>\n",
       "      <td id=\"T_db9cd_row16_col4\" class=\"data row16 col4\" >3</td>\n",
       "    </tr>\n",
       "    <tr>\n",
       "      <th id=\"T_db9cd_level0_row17\" class=\"row_heading level0 row17\" >17</th>\n",
       "      <td id=\"T_db9cd_row17_col0\" class=\"data row17 col0\" >hospitais e clínicas</td>\n",
       "      <td id=\"T_db9cd_row17_col1\" class=\"data row17 col1\" >0.333333</td>\n",
       "      <td id=\"T_db9cd_row17_col2\" class=\"data row17 col2\" >0.500000</td>\n",
       "      <td id=\"T_db9cd_row17_col3\" class=\"data row17 col3\" >0.400000</td>\n",
       "      <td id=\"T_db9cd_row17_col4\" class=\"data row17 col4\" >2</td>\n",
       "    </tr>\n",
       "    <tr>\n",
       "      <th id=\"T_db9cd_level0_row18\" class=\"row_heading level0 row18\" >18</th>\n",
       "      <td id=\"T_db9cd_row18_col0\" class=\"data row18 col0\" >auto-peças</td>\n",
       "      <td id=\"T_db9cd_row18_col1\" class=\"data row18 col1\" >0.000000</td>\n",
       "      <td id=\"T_db9cd_row18_col2\" class=\"data row18 col2\" >0.000000</td>\n",
       "      <td id=\"T_db9cd_row18_col3\" class=\"data row18 col3\" >0.000000</td>\n",
       "      <td id=\"T_db9cd_row18_col4\" class=\"data row18 col4\" >2</td>\n",
       "    </tr>\n",
       "    <tr>\n",
       "      <th id=\"T_db9cd_level0_row19\" class=\"row_heading level0 row19\" >19</th>\n",
       "      <td id=\"T_db9cd_row19_col0\" class=\"data row19 col0\" >joalheria</td>\n",
       "      <td id=\"T_db9cd_row19_col1\" class=\"data row19 col1\" >0.000000</td>\n",
       "      <td id=\"T_db9cd_row19_col2\" class=\"data row19 col2\" >0.000000</td>\n",
       "      <td id=\"T_db9cd_row19_col3\" class=\"data row19 col3\" >0.000000</td>\n",
       "      <td id=\"T_db9cd_row19_col4\" class=\"data row19 col4\" >1</td>\n",
       "    </tr>\n",
       "    <tr>\n",
       "      <th id=\"T_db9cd_level0_row20\" class=\"row_heading level0 row20\" >20</th>\n",
       "      <td id=\"T_db9cd_row20_col0\" class=\"data row20 col0\" >transação financeira</td>\n",
       "      <td id=\"T_db9cd_row20_col1\" class=\"data row20 col1\" >0.000000</td>\n",
       "      <td id=\"T_db9cd_row20_col2\" class=\"data row20 col2\" >0.000000</td>\n",
       "      <td id=\"T_db9cd_row20_col3\" class=\"data row20 col3\" >0.000000</td>\n",
       "      <td id=\"T_db9cd_row20_col4\" class=\"data row20 col4\" >0</td>\n",
       "    </tr>\n",
       "    <tr>\n",
       "      <th id=\"T_db9cd_level0_row21\" class=\"row_heading level0 row21\" >21</th>\n",
       "      <td id=\"T_db9cd_row21_col0\" class=\"data row21 col0\" >aluguel carro</td>\n",
       "      <td id=\"T_db9cd_row21_col1\" class=\"data row21 col1\" >0.000000</td>\n",
       "      <td id=\"T_db9cd_row21_col2\" class=\"data row21 col2\" >0.000000</td>\n",
       "      <td id=\"T_db9cd_row21_col3\" class=\"data row21 col3\" >0.000000</td>\n",
       "      <td id=\"T_db9cd_row21_col4\" class=\"data row21 col4\" >0</td>\n",
       "    </tr>\n",
       "  </tbody>\n",
       "</table>\n"
      ],
      "text/plain": [
       "<pandas.io.formats.style.Styler at 0x7fd6f8739760>"
      ]
     },
     "metadata": {},
     "output_type": "display_data"
    },
    {
     "name": "stdout",
     "output_type": "stream",
     "text": [
      "\n",
      "\n"
     ]
    }
   ],
   "source": [
    "for name, model_registry in models.items():\n",
    "    formated_name = name.replace(\"_\", \" \").capitalize()\n",
    "    display(HTML(f'<h3>{formated_name}</h3>'))\n",
    "    model = model_registry['model']\n",
    "\n",
    "    encoded_labels, encoded_predictions, classes = itemgetter('encoded_labels', 'encoded_predictions', 'classes')(model_registry)\n",
    "    metrics = compute_multiclass_classification_metrics(encoded_labels, encoded_predictions)\n",
    "    models[name]['metrics'] = metrics\n",
    "\n",
    "    display(HTML('<h4>Metrics</h4>'))\n",
    "    metrics_df = (\n",
    "        pd\n",
    "        .DataFrame([metrics])\n",
    "        .T\n",
    "        .reset_index()\n",
    "        .set_axis(['metric', 'value'], axis=1)\n",
    "    )\n",
    "    display(metrics_df)    \n",
    "\n",
    "    display(HTML('<h4>Class Metrics</h4>'))\n",
    "    classification_report_df = generate_classification_report(encoded_labels, encoded_predictions, classes)\n",
    "    formatted_classification_report_df = (\n",
    "        classification_report_df\n",
    "        .astype({'support': int})\n",
    "        .sort_values(by='support', ascending=False)\n",
    "        .reset_index()\n",
    "        .rename(columns={'index': 'class'})\n",
    "        .style\n",
    "        .applymap(lambda value: 'background-color:#7fb3d5' if value  > .5 else '',\n",
    "                  subset=['f1-score', 'precision', 'recall'])\n",
    "        .applymap(lambda value: 'background-color:#d2b4de' if value  == 'vestuário' else '',\n",
    "                 subset=['class'])\n",
    "        .applymap(lambda value: 'font-weight:bold', subset=['class'])\n",
    "    )\n",
    "    models[name]['classification_report'] = formatted_classification_report_df\n",
    "    display(formatted_classification_report_df)\n",
    "    print('\\n')"
   ]
  },
  {
   "cell_type": "markdown",
   "id": "a3a15d78-76f7-4289-b407-48429978a264",
   "metadata": {},
   "source": [
    "## Register Model Metrics at MLFlow\n",
    "\n",
    "The final metrics and reports are recorded at MLFlow for each model."
   ]
  },
  {
   "cell_type": "code",
   "execution_count": 9,
   "id": "a950a86e-e5f7-4d43-981d-d7c57042a2fa",
   "metadata": {},
   "outputs": [],
   "source": [
    "for name, model_registry in models.items():\n",
    "    wrapped_model = model_registry['wrapped_model']\n",
    "    run_id = wrapped_model.metadata.to_dict()['run_id']\n",
    "\n",
    "    set_active_run(run_id)\n",
    "    log_metrics(model_registry['metrics'])\n",
    "    log_dataframe_artifact(model_registry['classification_report'], 'main model', 'test_classification_report')\n",
    "    end_run()"
   ]
  },
  {
   "cell_type": "markdown",
   "id": "4207f763-e8dd-42fe-9da7-48f9c0977c2b",
   "metadata": {},
   "source": [
    "## Concluding Remarks\n",
    "\n",
    "This notebook ends the project by loading the published versions of `base model` and `modified model` and evaluating both of them on a unseen dataset (`test`). \n",
    "\n",
    "Overwall, the only class that could be suitable for usage (yet, with a not so good performance) would be `serviço`. This class has a feasible sample size for allow training and evaluating a model. \n",
    "\n",
    "The other classes do not contain a representative sample size. When considering the concentration of information based on time, it is not possible to property evaluate the data.\n",
    "\n",
    "The issues on the dataset also seem to cause an unapropriate increase in performance for the `modified model`. The `vestuário` class had a performance decrease from `0.19` to `0.10` from `validation` to the `test` set. Even the `base model` performed better with a F1 of `0.16`.  Considering this scenario, a better approach to improve the class results with less variance would be adjusting the class probability of the model.\n",
    "\n",
    "One of the main causes of the unappropriate metrics might be the time-based split of the dataset. It, however, gives a proper methodology of assessment to be sure to have an evaluation that is not optimistic and do not leak information to the model. That is especially necessary after the pandemic and all the behavioral changes that happened as consequence."
   ]
  }
 ],
 "metadata": {
  "kernelspec": {
   "display_name": "Python 3 (ipykernel)",
   "language": "python",
   "name": "python3"
  },
  "language_info": {
   "codemirror_mode": {
    "name": "ipython",
    "version": 3
   },
   "file_extension": ".py",
   "mimetype": "text/x-python",
   "name": "python",
   "nbconvert_exporter": "python",
   "pygments_lexer": "ipython3",
   "version": "3.8.13"
  }
 },
 "nbformat": 4,
 "nbformat_minor": 5
}
