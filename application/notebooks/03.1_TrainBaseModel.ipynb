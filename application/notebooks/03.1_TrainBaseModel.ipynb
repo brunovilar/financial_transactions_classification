{
 "cells": [
  {
   "cell_type": "markdown",
   "id": "020812d5-b5a9-4f68-8948-aab89eb508bd",
   "metadata": {},
   "source": [
    "## Train Base Model -- Development of a Transaction Categorization Model\n",
    "\n",
    "This notebook aims to create the base model to categorize transactions. In this scenario, all categories will have the same importance, adjusted by the frequency.\n",
    "\n",
    "### Tasks:\n",
    " - [X] Load training dataset.\n",
    " - [X] Create k folds for experiments.\n",
    " - [X] Generate feature vector.\n",
    " - [X] Train model.\n",
    "     - [X] Adjust weights;\n",
    "     - [X] Compute metrics based on folds;\n",
    "     - [X] Train final model;\n",
    " - [ ] Submit model, parameters and metrics do MLflow."
   ]
  },
  {
   "cell_type": "markdown",
   "id": "be3ab42d-6649-40e0-9005-2459a43766be",
   "metadata": {},
   "source": [
    "## Libraries and Configurations"
   ]
  },
  {
   "cell_type": "code",
   "execution_count": 1,
   "id": "cf8586e5-c7b0-4145-b093-427f6d926480",
   "metadata": {},
   "outputs": [],
   "source": [
    "import pandas as pd\n",
    "from IPython.core.display import HTML\n",
    "from lightgbm.sklearn import LGBMClassifier\n",
    "# import mlflow\n",
    "# import mlflow.sklearn\n",
    "# from mlflow.tracking import MlflowClient\n",
    "# from mlflow.models.signature import infer_signature\n",
    "\n",
    "from application.code.core.configurations import configs\n",
    "from application.code.adapters.storage import read_dataset\n",
    "from application.code.core.dataset_split_service import generate_folds, describe_datasets\n",
    "from application.code.core.feature_engineering import engineer_features\n",
    "from application.code.core.model_training import (clean_data,\n",
    "                                                  vectorize_folds, \n",
    "                                                  compute_weights, \n",
    "                                                  generate_encoders,\n",
    "                                                  vectorize_dataset)\n",
    "from application.code.core.model_evaluation import (compute_multiclass_classification_metrics, \n",
    "                                                    generate_feature_importance_report)"
   ]
  },
  {
   "cell_type": "markdown",
   "id": "c1af5599-b261-4c14-9554-d1e967d57f34",
   "metadata": {},
   "source": [
    "## Constants"
   ]
  },
  {
   "cell_type": "code",
   "execution_count": 2,
   "id": "2a805dcf-e481-4371-810c-21ed866d78ad",
   "metadata": {},
   "outputs": [],
   "source": [
    "TARGET_COLUMN = 'grupo_estabelecimento'\n",
    "\n",
    "CATEGORICAL_COLUMNS = ['cidade', 'estado', 'sexo', 'data',\n",
    "                       'cidade_estabelecimento','pais_estabelecimento']\n",
    "\n",
    "HIGH_CARDINALITY_CATEGORICAL_COLUMNS = [\n",
    "    'cidade', 'estado', \n",
    "    'cidade_estabelecimento', 'pais_estabelecimento', 'estado_estabelecimento',\n",
    "]\n",
    "\n",
    "BINARY_COLUMNS = ['sexo',  'dia_util',\n",
    "                  'cidade_diferente', 'estado_diferente', 'pais_diferente',]\n",
    "\n",
    "NUMERIC_COLUMNS = ['idade',\n",
    "                   'limite_total', 'limite_disp', 'valor', \n",
    "                   'dia_semana', 'dia_mes', 'mes',\n",
    "                   'valor_relativo_total', 'valor_relativo_disponivel',\n",
    "                  ]\n",
    "\n",
    "COLUMNS_SELECTION  = (\n",
    "    HIGH_CARDINALITY_CATEGORICAL_COLUMNS +\n",
    "    BINARY_COLUMNS + \n",
    "    NUMERIC_COLUMNS\n",
    ")"
   ]
  },
  {
   "cell_type": "markdown",
   "id": "52d4160a-5e53-4b6a-b100-cde8b23d5498",
   "metadata": {},
   "source": [
    "## Load Dataset\n",
    "\n",
    "The `training` dataset is loaded to create the model perform experiments."
   ]
  },
  {
   "cell_type": "code",
   "execution_count": 3,
   "id": "5eaaec26-3dd5-47c1-82f3-1655b8ee07aa",
   "metadata": {},
   "outputs": [
    {
     "data": {
      "text/html": [
       "<h4>Dataset</h4>"
      ],
      "text/plain": [
       "<IPython.core.display.HTML object>"
      ]
     },
     "metadata": {},
     "output_type": "display_data"
    },
    {
     "name": "stdout",
     "output_type": "stream",
     "text": [
      "Records: 3944\n",
      "\n",
      "Sample:\n"
     ]
    },
    {
     "data": {
      "text/html": [
       "<div>\n",
       "<style scoped>\n",
       "    .dataframe tbody tr th:only-of-type {\n",
       "        vertical-align: middle;\n",
       "    }\n",
       "\n",
       "    .dataframe tbody tr th {\n",
       "        vertical-align: top;\n",
       "    }\n",
       "\n",
       "    .dataframe thead th {\n",
       "        text-align: right;\n",
       "    }\n",
       "</style>\n",
       "<table border=\"1\" class=\"dataframe\">\n",
       "  <thead>\n",
       "    <tr style=\"text-align: right;\">\n",
       "      <th></th>\n",
       "      <th>0</th>\n",
       "      <th>1</th>\n",
       "      <th>2</th>\n",
       "    </tr>\n",
       "  </thead>\n",
       "  <tbody>\n",
       "    <tr>\n",
       "      <th>id</th>\n",
       "      <td>4,53E+11</td>\n",
       "      <td>4,53E+11</td>\n",
       "      <td>4,53E+11</td>\n",
       "    </tr>\n",
       "    <tr>\n",
       "      <th>safra_abertura</th>\n",
       "      <td>201405</td>\n",
       "      <td>201405</td>\n",
       "      <td>201405</td>\n",
       "    </tr>\n",
       "    <tr>\n",
       "      <th>cidade</th>\n",
       "      <td>CAMPO LIMPO PAULISTA</td>\n",
       "      <td>CAMPO LIMPO PAULISTA</td>\n",
       "      <td>CAMPO LIMPO PAULISTA</td>\n",
       "    </tr>\n",
       "    <tr>\n",
       "      <th>estado</th>\n",
       "      <td>SP</td>\n",
       "      <td>SP</td>\n",
       "      <td>SP</td>\n",
       "    </tr>\n",
       "    <tr>\n",
       "      <th>idade</th>\n",
       "      <td>37</td>\n",
       "      <td>37</td>\n",
       "      <td>37</td>\n",
       "    </tr>\n",
       "    <tr>\n",
       "      <th>sexo</th>\n",
       "      <td>F</td>\n",
       "      <td>F</td>\n",
       "      <td>F</td>\n",
       "    </tr>\n",
       "    <tr>\n",
       "      <th>limite_total</th>\n",
       "      <td>4700</td>\n",
       "      <td>4700</td>\n",
       "      <td>4700</td>\n",
       "    </tr>\n",
       "    <tr>\n",
       "      <th>limite_disp</th>\n",
       "      <td>5605</td>\n",
       "      <td>5343</td>\n",
       "      <td>2829</td>\n",
       "    </tr>\n",
       "    <tr>\n",
       "      <th>data</th>\n",
       "      <td>4.12.2019</td>\n",
       "      <td>9.11.2019</td>\n",
       "      <td>6.05.2019</td>\n",
       "    </tr>\n",
       "    <tr>\n",
       "      <th>valor</th>\n",
       "      <td>31</td>\n",
       "      <td>150,01</td>\n",
       "      <td>50</td>\n",
       "    </tr>\n",
       "    <tr>\n",
       "      <th>grupo_estabelecimento</th>\n",
       "      <td>SERVIO</td>\n",
       "      <td>FARMACIAS</td>\n",
       "      <td>SERVIO</td>\n",
       "    </tr>\n",
       "    <tr>\n",
       "      <th>cidade_estabelecimento</th>\n",
       "      <td>SAO PAULO</td>\n",
       "      <td>SANTOS</td>\n",
       "      <td>SAO PAULO</td>\n",
       "    </tr>\n",
       "    <tr>\n",
       "      <th>pais_estabelecimento</th>\n",
       "      <td>BR</td>\n",
       "      <td>BR</td>\n",
       "      <td>BR</td>\n",
       "    </tr>\n",
       "    <tr>\n",
       "      <th>period</th>\n",
       "      <td>2019-12-04</td>\n",
       "      <td>2019-11-09</td>\n",
       "      <td>2019-05-06</td>\n",
       "    </tr>\n",
       "  </tbody>\n",
       "</table>\n",
       "</div>"
      ],
      "text/plain": [
       "                                             0                       1  \\\n",
       "id                                    4,53E+11                4,53E+11   \n",
       "safra_abertura                          201405                  201405   \n",
       "cidade                  CAMPO LIMPO PAULISTA    CAMPO LIMPO PAULISTA     \n",
       "estado                                     SP                      SP    \n",
       "idade                                       37                      37   \n",
       "sexo                                         F                       F   \n",
       "limite_total                              4700                    4700   \n",
       "limite_disp                               5605                    5343   \n",
       "data                                 4.12.2019               9.11.2019   \n",
       " valor                                      31                  150,01   \n",
       "grupo_estabelecimento                  SERVIO               FARMACIAS   \n",
       "cidade_estabelecimento               SAO PAULO                  SANTOS   \n",
       "pais_estabelecimento                        BR                      BR   \n",
       "period                              2019-12-04              2019-11-09   \n",
       "\n",
       "                                             2  \n",
       "id                                    4,53E+11  \n",
       "safra_abertura                          201405  \n",
       "cidade                  CAMPO LIMPO PAULISTA    \n",
       "estado                                     SP   \n",
       "idade                                       37  \n",
       "sexo                                         F  \n",
       "limite_total                              4700  \n",
       "limite_disp                               2829  \n",
       "data                                 6.05.2019  \n",
       " valor                                      50  \n",
       "grupo_estabelecimento                  SERVIO  \n",
       "cidade_estabelecimento               SAO PAULO  \n",
       "pais_estabelecimento                        BR  \n",
       "period                              2019-05-06  "
      ]
     },
     "metadata": {},
     "output_type": "display_data"
    }
   ],
   "source": [
    "df = read_dataset(base_path=configs.datasets.base_path, stage='raw', file_name='train')\n",
    "\n",
    "display(HTML('<h4>Dataset</h4>'))\n",
    "print(f'Records: {len(df)}')\n",
    "print('\\nSample:')\n",
    "display(df.head(3).T)"
   ]
  },
  {
   "cell_type": "markdown",
   "id": "ae287154-f98d-4581-8e8e-fda010f600bd",
   "metadata": {},
   "source": [
    "To create the model and perform experiments, only the `training` dataset will be used. The evaluation will be performed by creating some time-oriented `validation` datasets using the same methodology used to create the `test` dataset.\n",
    "\n",
    "3 sets of `training` and `validation` sets will be created, each of them representing a fold. At the end, it will be possible to have an efficacy measurement with a variance notion.\n",
    "It is important to use `validation` set avoid using the `test` several times. Ideally, it should be used only once, for the final assessment."
   ]
  },
  {
   "cell_type": "code",
   "execution_count": 4,
   "id": "c3e083d8-d0f6-43f5-a27d-9210689b1b29",
   "metadata": {},
   "outputs": [],
   "source": [
    "folds = generate_folds(df, \n",
    "                       n_folds=configs.model_training.folds, \n",
    "                       min_validation_size=configs.model_training.min_validation_size)"
   ]
  },
  {
   "cell_type": "markdown",
   "id": "f4b037fb-3f71-455a-af5d-0aaf78f1e629",
   "metadata": {},
   "source": [
    "Summarize and validate folds (`training` and `validation` sets should not share records)."
   ]
  },
  {
   "cell_type": "code",
   "execution_count": 5,
   "id": "2f420383-2dfb-4386-b887-5999ac9acc26",
   "metadata": {},
   "outputs": [
    {
     "data": {
      "text/html": [
       "<strong>Fold <code>0</code></strong>"
      ],
      "text/plain": [
       "<IPython.core.display.HTML object>"
      ]
     },
     "metadata": {},
     "output_type": "display_data"
    },
    {
     "name": "stdout",
     "output_type": "stream",
     "text": [
      " - Split Period: 2019-12-31\n",
      " - Training:\n",
      "\t - Size: 3533\n",
      "\t - Days: 274\n",
      "\t - Labels: 21\n",
      " - Assessment:\n",
      "\t - Size: 27\n",
      "\t - Days: 27\n",
      "\t - Labels: 18\n",
      " - Assessment Relative Size: 10.42%\n",
      "\n"
     ]
    },
    {
     "data": {
      "text/html": [
       "<strong>Fold <code>1</code></strong>"
      ],
      "text/plain": [
       "<IPython.core.display.HTML object>"
      ]
     },
     "metadata": {},
     "output_type": "display_data"
    },
    {
     "name": "stdout",
     "output_type": "stream",
     "text": [
      " - Split Period: 2019-12-03\n",
      " - Training:\n",
      "\t - Size: 3108\n",
      "\t - Days: 246\n",
      "\t - Labels: 21\n",
      " - Assessment:\n",
      "\t - Size: 28\n",
      "\t - Days: 28\n",
      "\t - Labels: 19\n",
      " - Assessment Relative Size: 12.03%\n",
      "\n"
     ]
    },
    {
     "data": {
      "text/html": [
       "<strong>Fold <code>2</code></strong>"
      ],
      "text/plain": [
       "<IPython.core.display.HTML object>"
      ]
     },
     "metadata": {},
     "output_type": "display_data"
    },
    {
     "name": "stdout",
     "output_type": "stream",
     "text": [
      " - Split Period: 2019-11-06\n",
      " - Training:\n",
      "\t - Size: 2679\n",
      "\t - Days: 219\n",
      "\t - Labels: 21\n",
      " - Assessment:\n",
      "\t - Size: 27\n",
      "\t - Days: 27\n",
      "\t - Labels: 18\n",
      " - Assessment Relative Size: 13.80%\n",
      "\n"
     ]
    },
    {
     "data": {
      "text/html": [
       "<strong>Fold <code>3</code></strong>"
      ],
      "text/plain": [
       "<IPython.core.display.HTML object>"
      ]
     },
     "metadata": {},
     "output_type": "display_data"
    },
    {
     "name": "stdout",
     "output_type": "stream",
     "text": [
      " - Split Period: 2019-10-04\n",
      " - Training:\n",
      "\t - Size: 2243\n",
      "\t - Days: 186\n",
      "\t - Labels: 20\n",
      " - Assessment:\n",
      "\t - Size: 33\n",
      "\t - Days: 33\n",
      "\t - Labels: 17\n",
      " - Assessment Relative Size: 16.27%\n",
      "\n"
     ]
    },
    {
     "data": {
      "text/html": [
       "<strong>Fold <code>4</code></strong>"
      ],
      "text/plain": [
       "<IPython.core.display.HTML object>"
      ]
     },
     "metadata": {},
     "output_type": "display_data"
    },
    {
     "name": "stdout",
     "output_type": "stream",
     "text": [
      " - Split Period: 2019-08-27\n",
      " - Training:\n",
      "\t - Size: 1826\n",
      "\t - Days: 148\n",
      "\t - Labels: 20\n",
      " - Assessment:\n",
      "\t - Size: 38\n",
      "\t - Days: 38\n",
      "\t - Labels: 18\n",
      " - Assessment Relative Size: 18.59%\n",
      "\n"
     ]
    }
   ],
   "source": [
    "for ix, (train_df, valid_df) in enumerate(folds):\n",
    "\n",
    "    display(HTML(f'<strong>Fold <code>{ix}</code></strong>'))\n",
    "    describe_datasets(train_df, valid_df, TARGET_COLUMN)\n",
    "    print()\n",
    "\n",
    "    train_periods = set(train_df[\"period\"].tolist())\n",
    "    valid_periods = set(valid_df[\"period\"].tolist())\n",
    "\n",
    "    assert len(train_periods & valid_periods) == 0, \\\n",
    "    'Training and Validation share dates.'"
   ]
  },
  {
   "cell_type": "markdown",
   "id": "7c77dc46-d3ce-47bc-85e1-c6bea4b69552",
   "metadata": {},
   "source": [
    "## Dataset Preprocessing and Feature Vectorization\n",
    "\n",
    "Vectorization of each fold based on the following strategy:\n",
    " - For each fold:\n",
    "   - Perform basic cleaning:\n",
    "       - Remove duplicated records.\n",
    "       - Format column names.\n",
    "       - Cast column types.\n",
    "       - Standardize string values.\n",
    "   - Create new features based on the orignal features.\n",
    "   - Use the `training` set to create encoders (label and categorical columns);\n",
    "       - `LabelEncoder` represents target labels into numbers.\n",
    "       - `CountEncoder` represents high cardinality categorical data into numbers -- This method deals with missing values and avoid the need to create multiple columns to represent the values, reducing the sparsity of the feature vector.\n",
    "    - Transform binary columns into `0` or `1`\n",
    "   \n",
    "The value are not scaled due to the use of a tree-based algorithm (LightGBM), which is not sensitive to feature scale -- [besides some evidences possibilities](https://arxiv.org/pdf/1611.04561.pdf).\n"
   ]
  },
  {
   "cell_type": "code",
   "execution_count": 6,
   "id": "76ab97de-f047-49c2-b840-1cb22adbf78e",
   "metadata": {},
   "outputs": [],
   "source": [
    "vectorized_folds = vectorize_folds(folds,\n",
    "                                   columns_selection=COLUMNS_SELECTION,\n",
    "                                   categorical_columns=CATEGORICAL_COLUMNS,\n",
    "                                   high_cardinality_categorical_columns=HIGH_CARDINALITY_CATEGORICAL_COLUMNS,\n",
    "                                   binary_columns=BINARY_COLUMNS,\n",
    "                                   target_column=TARGET_COLUMN,\n",
    "                                  )"
   ]
  },
  {
   "cell_type": "markdown",
   "id": "46eb598b-26cf-4631-af7e-a554c199f3bf",
   "metadata": {},
   "source": [
    "## Model Training on Folds\n",
    "\n",
    "As stated before, LightGBM will be used as algorithm to learn a model. It was chosen because:\n",
    " - Is based on trees and does not require scalling features.\n",
    " - Has good results on Industry and at Machine Learning competitions.\n",
    " - Is able to deal with missing values.\n",
    " - Has good efficiency and support for high volume of data (using GPU or distributed computing). \n",
    " - Provides an API compatible with SKlearn.\n",
    " - Has a good [documentation](https://lightgbm.readthedocs.io/en/v3.3.2/) and community content (e.g., blogs and forums).\n",
    " - Is supported by different ML tools (e.g., Optuna, ONNX, Dask, and Spark)\n",
    "\n",
    "### Training and Evaluation on Folds"
   ]
  },
  {
   "cell_type": "code",
   "execution_count": 7,
   "id": "012ad98a-1515-4653-a540-76e3227682b5",
   "metadata": {},
   "outputs": [
    {
     "name": "stdout",
     "output_type": "stream",
     "text": [
      "CPU times: user 4min 40s, sys: 2.24 s, total: 4min 42s\n",
      "Wall time: 39.7 s\n"
     ]
    }
   ],
   "source": [
    "%%time\n",
    "\n",
    "model_params = {'objective': 'multiclass', \n",
    "                'metric': 'multi_error',                 \n",
    "                'verbosity': -1, \n",
    "                'n_estimators': 500,\n",
    "                'random_state': configs.model_training.random_seed,\n",
    "               }\n",
    "\n",
    "iterations_tracking = []\n",
    "\n",
    "for ix, ((train_X, train_y), (valid_X, valid_y)) in enumerate(vectorized_folds):\n",
    "\n",
    "    class_weights = compute_weights(train_y)\n",
    "    \n",
    "    model_params.update({'class_weight': class_weights,\n",
    "                         'num_class': len(set(train_y))})\n",
    "\n",
    "    model = LGBMClassifier(**model_params)\n",
    "    model.fit(train_X, train_y)\n",
    "\n",
    "    preds = model.predict(valid_X)\n",
    "    eval_metrics = compute_multiclass_classification_metrics(valid_y, \n",
    "                                                             preds.round(), \n",
    "                                                             average='macro')\n",
    "\n",
    "    iteration_tracking = {**{'Fold': ix,\n",
    "                             'training_size': train_X.shape[0],\n",
    "                             'validation_size': valid_X.shape[0],},\n",
    "                          **eval_metrics}\n",
    "    iterations_tracking.append(iteration_tracking)    "
   ]
  },
  {
   "cell_type": "markdown",
   "id": "54cb5a10-f0a9-4a1a-baaf-0fddb2953cdd",
   "metadata": {},
   "source": [
    "### Folds Metrics\n",
    "\n",
    "Considering the unbalance of the labels, it is important to consider metrics that are not sensitive to it. For that purpose, `Precision`, `Recall`, and `F1` are good alternatives to provide information about each class. `Accuracy` might not be the best to be affected by the unbalance -- but there are `balanced` versions of it that could be used."
   ]
  },
  {
   "cell_type": "code",
   "execution_count": 8,
   "id": "6edbe647-e13e-41a6-9755-4d726db6d5be",
   "metadata": {},
   "outputs": [
    {
     "data": {
      "text/html": [
       "<strong>Individual Fold Metrics</strong>"
      ],
      "text/plain": [
       "<IPython.core.display.HTML object>"
      ]
     },
     "metadata": {},
     "output_type": "display_data"
    },
    {
     "data": {
      "text/html": [
       "<div>\n",
       "<style scoped>\n",
       "    .dataframe tbody tr th:only-of-type {\n",
       "        vertical-align: middle;\n",
       "    }\n",
       "\n",
       "    .dataframe tbody tr th {\n",
       "        vertical-align: top;\n",
       "    }\n",
       "\n",
       "    .dataframe thead th {\n",
       "        text-align: right;\n",
       "    }\n",
       "</style>\n",
       "<table border=\"1\" class=\"dataframe\">\n",
       "  <thead>\n",
       "    <tr style=\"text-align: right;\">\n",
       "      <th></th>\n",
       "      <th>Fold</th>\n",
       "      <th>training_size</th>\n",
       "      <th>validation_size</th>\n",
       "      <th>precision</th>\n",
       "      <th>recall</th>\n",
       "      <th>f1</th>\n",
       "    </tr>\n",
       "  </thead>\n",
       "  <tbody>\n",
       "    <tr>\n",
       "      <th>0</th>\n",
       "      <td>0</td>\n",
       "      <td>3531</td>\n",
       "      <td>411</td>\n",
       "      <td>0.168378</td>\n",
       "      <td>0.146911</td>\n",
       "      <td>0.152202</td>\n",
       "    </tr>\n",
       "    <tr>\n",
       "      <th>1</th>\n",
       "      <td>1</td>\n",
       "      <td>3106</td>\n",
       "      <td>425</td>\n",
       "      <td>0.340539</td>\n",
       "      <td>0.297991</td>\n",
       "      <td>0.300029</td>\n",
       "    </tr>\n",
       "    <tr>\n",
       "      <th>2</th>\n",
       "      <td>2</td>\n",
       "      <td>2677</td>\n",
       "      <td>429</td>\n",
       "      <td>0.295680</td>\n",
       "      <td>0.308083</td>\n",
       "      <td>0.291910</td>\n",
       "    </tr>\n",
       "    <tr>\n",
       "      <th>3</th>\n",
       "      <td>3</td>\n",
       "      <td>2241</td>\n",
       "      <td>436</td>\n",
       "      <td>0.262015</td>\n",
       "      <td>0.260289</td>\n",
       "      <td>0.251683</td>\n",
       "    </tr>\n",
       "    <tr>\n",
       "      <th>4</th>\n",
       "      <td>4</td>\n",
       "      <td>1824</td>\n",
       "      <td>417</td>\n",
       "      <td>0.266909</td>\n",
       "      <td>0.271522</td>\n",
       "      <td>0.245534</td>\n",
       "    </tr>\n",
       "  </tbody>\n",
       "</table>\n",
       "</div>"
      ],
      "text/plain": [
       "   Fold  training_size  validation_size  precision    recall        f1\n",
       "0     0           3531              411   0.168378  0.146911  0.152202\n",
       "1     1           3106              425   0.340539  0.297991  0.300029\n",
       "2     2           2677              429   0.295680  0.308083  0.291910\n",
       "3     3           2241              436   0.262015  0.260289  0.251683\n",
       "4     4           1824              417   0.266909  0.271522  0.245534"
      ]
     },
     "metadata": {},
     "output_type": "display_data"
    },
    {
     "data": {
      "text/html": [
       "<strong>Summarized Fold Metrics</strong>"
      ],
      "text/plain": [
       "<IPython.core.display.HTML object>"
      ]
     },
     "metadata": {},
     "output_type": "display_data"
    },
    {
     "data": {
      "text/html": [
       "<div>\n",
       "<style scoped>\n",
       "    .dataframe tbody tr th:only-of-type {\n",
       "        vertical-align: middle;\n",
       "    }\n",
       "\n",
       "    .dataframe tbody tr th {\n",
       "        vertical-align: top;\n",
       "    }\n",
       "\n",
       "    .dataframe thead th {\n",
       "        text-align: right;\n",
       "    }\n",
       "</style>\n",
       "<table border=\"1\" class=\"dataframe\">\n",
       "  <thead>\n",
       "    <tr style=\"text-align: right;\">\n",
       "      <th></th>\n",
       "      <th>mean</th>\n",
       "      <th>std</th>\n",
       "    </tr>\n",
       "  </thead>\n",
       "  <tbody>\n",
       "    <tr>\n",
       "      <th>precision</th>\n",
       "      <td>0.266704</td>\n",
       "      <td>0.063208</td>\n",
       "    </tr>\n",
       "    <tr>\n",
       "      <th>recall</th>\n",
       "      <td>0.256959</td>\n",
       "      <td>0.064481</td>\n",
       "    </tr>\n",
       "    <tr>\n",
       "      <th>f1</th>\n",
       "      <td>0.248272</td>\n",
       "      <td>0.058804</td>\n",
       "    </tr>\n",
       "  </tbody>\n",
       "</table>\n",
       "</div>"
      ],
      "text/plain": [
       "               mean       std\n",
       "precision  0.266704  0.063208\n",
       "recall     0.256959  0.064481\n",
       "f1         0.248272  0.058804"
      ]
     },
     "metadata": {},
     "output_type": "display_data"
    }
   ],
   "source": [
    "folds_evaluation_df = pd.DataFrame(iterations_tracking)\n",
    "\n",
    "display(HTML('<strong>Individual Fold Metrics</strong>'))\n",
    "display(folds_evaluation_df)\n",
    "\n",
    "display(HTML('<strong>Summarized Fold Metrics</strong>'))\n",
    "display(folds_evaluation_df\n",
    "        .drop(columns=['Fold', 'training_size', 'validation_size'])\n",
    "        .agg(['mean', 'std'])\n",
    "        .T\n",
    "       )"
   ]
  },
  {
   "cell_type": "markdown",
   "id": "2b2cbb46-ed0b-4c0d-8f9f-8fd34a9ead0c",
   "metadata": {},
   "source": [
    "## Final Training\n",
    "\n",
    "This section creates the final model, using all the `training` set. The evaluation will be performed in another notebook, to avoid reusing the `test` set. "
   ]
  },
  {
   "cell_type": "code",
   "execution_count": 9,
   "id": "36f9a445-fa49-4179-b85f-32f2c3689830",
   "metadata": {},
   "outputs": [
    {
     "name": "stdout",
     "output_type": "stream",
     "text": [
      "CPU times: user 1min 10s, sys: 386 ms, total: 1min 10s\n",
      "Wall time: 9.85 s\n"
     ]
    },
    {
     "data": {
      "text/html": [
       "<style>#sk-container-id-1 {color: black;background-color: white;}#sk-container-id-1 pre{padding: 0;}#sk-container-id-1 div.sk-toggleable {background-color: white;}#sk-container-id-1 label.sk-toggleable__label {cursor: pointer;display: block;width: 100%;margin-bottom: 0;padding: 0.3em;box-sizing: border-box;text-align: center;}#sk-container-id-1 label.sk-toggleable__label-arrow:before {content: \"▸\";float: left;margin-right: 0.25em;color: #696969;}#sk-container-id-1 label.sk-toggleable__label-arrow:hover:before {color: black;}#sk-container-id-1 div.sk-estimator:hover label.sk-toggleable__label-arrow:before {color: black;}#sk-container-id-1 div.sk-toggleable__content {max-height: 0;max-width: 0;overflow: hidden;text-align: left;background-color: #f0f8ff;}#sk-container-id-1 div.sk-toggleable__content pre {margin: 0.2em;color: black;border-radius: 0.25em;background-color: #f0f8ff;}#sk-container-id-1 input.sk-toggleable__control:checked~div.sk-toggleable__content {max-height: 200px;max-width: 100%;overflow: auto;}#sk-container-id-1 input.sk-toggleable__control:checked~label.sk-toggleable__label-arrow:before {content: \"▾\";}#sk-container-id-1 div.sk-estimator input.sk-toggleable__control:checked~label.sk-toggleable__label {background-color: #d4ebff;}#sk-container-id-1 div.sk-label input.sk-toggleable__control:checked~label.sk-toggleable__label {background-color: #d4ebff;}#sk-container-id-1 input.sk-hidden--visually {border: 0;clip: rect(1px 1px 1px 1px);clip: rect(1px, 1px, 1px, 1px);height: 1px;margin: -1px;overflow: hidden;padding: 0;position: absolute;width: 1px;}#sk-container-id-1 div.sk-estimator {font-family: monospace;background-color: #f0f8ff;border: 1px dotted black;border-radius: 0.25em;box-sizing: border-box;margin-bottom: 0.5em;}#sk-container-id-1 div.sk-estimator:hover {background-color: #d4ebff;}#sk-container-id-1 div.sk-parallel-item::after {content: \"\";width: 100%;border-bottom: 1px solid gray;flex-grow: 1;}#sk-container-id-1 div.sk-label:hover label.sk-toggleable__label {background-color: #d4ebff;}#sk-container-id-1 div.sk-serial::before {content: \"\";position: absolute;border-left: 1px solid gray;box-sizing: border-box;top: 0;bottom: 0;left: 50%;z-index: 0;}#sk-container-id-1 div.sk-serial {display: flex;flex-direction: column;align-items: center;background-color: white;padding-right: 0.2em;padding-left: 0.2em;position: relative;}#sk-container-id-1 div.sk-item {position: relative;z-index: 1;}#sk-container-id-1 div.sk-parallel {display: flex;align-items: stretch;justify-content: center;background-color: white;position: relative;}#sk-container-id-1 div.sk-item::before, #sk-container-id-1 div.sk-parallel-item::before {content: \"\";position: absolute;border-left: 1px solid gray;box-sizing: border-box;top: 0;bottom: 0;left: 50%;z-index: -1;}#sk-container-id-1 div.sk-parallel-item {display: flex;flex-direction: column;z-index: 1;position: relative;background-color: white;}#sk-container-id-1 div.sk-parallel-item:first-child::after {align-self: flex-end;width: 50%;}#sk-container-id-1 div.sk-parallel-item:last-child::after {align-self: flex-start;width: 50%;}#sk-container-id-1 div.sk-parallel-item:only-child::after {width: 0;}#sk-container-id-1 div.sk-dashed-wrapped {border: 1px dashed gray;margin: 0 0.4em 0.5em 0.4em;box-sizing: border-box;padding-bottom: 0.4em;background-color: white;}#sk-container-id-1 div.sk-label label {font-family: monospace;font-weight: bold;display: inline-block;line-height: 1.2em;}#sk-container-id-1 div.sk-label-container {text-align: center;}#sk-container-id-1 div.sk-container {/* jupyter's `normalize.less` sets `[hidden] { display: none; }` but bootstrap.min.css set `[hidden] { display: none !important; }` so we also need the `!important` here to be able to override the default hidden behavior on the sphinx rendered scikit-learn.org. See: https://github.com/scikit-learn/scikit-learn/issues/21755 */display: inline-block !important;position: relative;}#sk-container-id-1 div.sk-text-repr-fallback {display: none;}</style><div id=\"sk-container-id-1\" class=\"sk-top-container\"><div class=\"sk-text-repr-fallback\"><pre>LGBMClassifier(class_weight={0: 31.285714285714285, 1: 187.71428571428572,\n",
       "                             2: 1.97593984962406, 3: 15.642857142857142,\n",
       "                             4: 6.257142857142857, 5: 1.1376623376623376,\n",
       "                             6: 11.732142857142858, 7: 8.938775510204081,\n",
       "                             8: 37.542857142857144, 9: 2.9330357142857144,\n",
       "                             10: 1.3219315895372235, 11: 17.064935064935064,\n",
       "                             12: 18.771428571428572, 13: 1.1880650994575046,\n",
       "                             14: 0.2651331719128329, 15: 13.408163265306122,\n",
       "                             16: 0.12919083669255726, 17: 0.49791587722622205,\n",
       "                             18: 18.771428571428572, 19: 0.4199424736337488,\n",
       "                             20: 0.9528643944887599},\n",
       "               metric=&#x27;multi_error&#x27;, n_estimators=500, num_class=21,\n",
       "               objective=&#x27;multiclass&#x27;, random_state=9118, verbosity=-1)</pre><b>In a Jupyter environment, please rerun this cell to show the HTML representation or trust the notebook. <br />On GitHub, the HTML representation is unable to render, please try loading this page with nbviewer.org.</b></div><div class=\"sk-container\" hidden><div class=\"sk-item\"><div class=\"sk-estimator sk-toggleable\"><input class=\"sk-toggleable__control sk-hidden--visually\" id=\"sk-estimator-id-1\" type=\"checkbox\" checked><label for=\"sk-estimator-id-1\" class=\"sk-toggleable__label sk-toggleable__label-arrow\">LGBMClassifier</label><div class=\"sk-toggleable__content\"><pre>LGBMClassifier(class_weight={0: 31.285714285714285, 1: 187.71428571428572,\n",
       "                             2: 1.97593984962406, 3: 15.642857142857142,\n",
       "                             4: 6.257142857142857, 5: 1.1376623376623376,\n",
       "                             6: 11.732142857142858, 7: 8.938775510204081,\n",
       "                             8: 37.542857142857144, 9: 2.9330357142857144,\n",
       "                             10: 1.3219315895372235, 11: 17.064935064935064,\n",
       "                             12: 18.771428571428572, 13: 1.1880650994575046,\n",
       "                             14: 0.2651331719128329, 15: 13.408163265306122,\n",
       "                             16: 0.12919083669255726, 17: 0.49791587722622205,\n",
       "                             18: 18.771428571428572, 19: 0.4199424736337488,\n",
       "                             20: 0.9528643944887599},\n",
       "               metric=&#x27;multi_error&#x27;, n_estimators=500, num_class=21,\n",
       "               objective=&#x27;multiclass&#x27;, random_state=9118, verbosity=-1)</pre></div></div></div></div></div>"
      ],
      "text/plain": [
       "LGBMClassifier(class_weight={0: 31.285714285714285, 1: 187.71428571428572,\n",
       "                             2: 1.97593984962406, 3: 15.642857142857142,\n",
       "                             4: 6.257142857142857, 5: 1.1376623376623376,\n",
       "                             6: 11.732142857142858, 7: 8.938775510204081,\n",
       "                             8: 37.542857142857144, 9: 2.9330357142857144,\n",
       "                             10: 1.3219315895372235, 11: 17.064935064935064,\n",
       "                             12: 18.771428571428572, 13: 1.1880650994575046,\n",
       "                             14: 0.2651331719128329, 15: 13.408163265306122,\n",
       "                             16: 0.12919083669255726, 17: 0.49791587722622205,\n",
       "                             18: 18.771428571428572, 19: 0.4199424736337488,\n",
       "                             20: 0.9528643944887599},\n",
       "               metric='multi_error', n_estimators=500, num_class=21,\n",
       "               objective='multiclass', random_state=9118, verbosity=-1)"
      ]
     },
     "execution_count": 9,
     "metadata": {},
     "output_type": "execute_result"
    }
   ],
   "source": [
    "%%time\n",
    "\n",
    "clean_df = (\n",
    "    df\n",
    "    .pipe(clean_data, CATEGORICAL_COLUMNS + [TARGET_COLUMN])\n",
    "    .pipe(engineer_features)\n",
    ")\n",
    "\n",
    "labels = clean_df[TARGET_COLUMN].unique().tolist()\n",
    "\n",
    "label_encoder, categorical_encoder = generate_encoders(\n",
    "    clean_df[COLUMNS_SELECTION],\n",
    "    labels,\n",
    "    HIGH_CARDINALITY_CATEGORICAL_COLUMNS,\n",
    ")\n",
    "\n",
    "X_training, y_training = vectorize_dataset(df,\n",
    "                                           label_encoder, \n",
    "                                           categorical_encoder,\n",
    "                                           columns_selection=COLUMNS_SELECTION,\n",
    "                                           categorical_columns=CATEGORICAL_COLUMNS,\n",
    "                                           binary_columns=BINARY_COLUMNS,\n",
    "                                           target_column=TARGET_COLUMN,\n",
    "                                          )\n",
    "\n",
    "class_weights = compute_weights(y_training)\n",
    "\n",
    "model_params.update({'class_weight': class_weights,\n",
    "                     'num_class': len(set(y_training))})\n",
    "\n",
    "model = LGBMClassifier(**model_params)\n",
    "model.fit(X_training, y_training);"
   ]
  },
  {
   "cell_type": "markdown",
   "id": "f6f75ccb-60ee-4bbf-9af3-b4d6fcbe7bab",
   "metadata": {},
   "source": [
    "### Feature Importance"
   ]
  },
  {
   "cell_type": "code",
   "execution_count": 10,
   "id": "669b6cb1-f621-4739-b6d2-f564b49315b8",
   "metadata": {},
   "outputs": [
    {
     "data": {
      "text/html": [
       "<div>\n",
       "<style scoped>\n",
       "    .dataframe tbody tr th:only-of-type {\n",
       "        vertical-align: middle;\n",
       "    }\n",
       "\n",
       "    .dataframe tbody tr th {\n",
       "        vertical-align: top;\n",
       "    }\n",
       "\n",
       "    .dataframe thead th {\n",
       "        text-align: right;\n",
       "    }\n",
       "</style>\n",
       "<table border=\"1\" class=\"dataframe\">\n",
       "  <thead>\n",
       "    <tr style=\"text-align: right;\">\n",
       "      <th></th>\n",
       "      <th>feature</th>\n",
       "      <th>absolute_importance</th>\n",
       "      <th>relative_importance</th>\n",
       "    </tr>\n",
       "  </thead>\n",
       "  <tbody>\n",
       "    <tr>\n",
       "      <th>13</th>\n",
       "      <td>valor</td>\n",
       "      <td>28003</td>\n",
       "      <td>17.01%</td>\n",
       "    </tr>\n",
       "    <tr>\n",
       "      <th>12</th>\n",
       "      <td>limite_disp</td>\n",
       "      <td>23099</td>\n",
       "      <td>14.03%</td>\n",
       "    </tr>\n",
       "    <tr>\n",
       "      <th>17</th>\n",
       "      <td>valor_relativo_total</td>\n",
       "      <td>22885</td>\n",
       "      <td>13.90%</td>\n",
       "    </tr>\n",
       "    <tr>\n",
       "      <th>18</th>\n",
       "      <td>valor_relativo_disponivel</td>\n",
       "      <td>22197</td>\n",
       "      <td>13.49%</td>\n",
       "    </tr>\n",
       "    <tr>\n",
       "      <th>15</th>\n",
       "      <td>dia_mes</td>\n",
       "      <td>18154</td>\n",
       "      <td>11.03%</td>\n",
       "    </tr>\n",
       "    <tr>\n",
       "      <th>16</th>\n",
       "      <td>mes</td>\n",
       "      <td>10252</td>\n",
       "      <td>6.23%</td>\n",
       "    </tr>\n",
       "    <tr>\n",
       "      <th>2</th>\n",
       "      <td>cidade_estabelecimento</td>\n",
       "      <td>9024</td>\n",
       "      <td>5.48%</td>\n",
       "    </tr>\n",
       "    <tr>\n",
       "      <th>10</th>\n",
       "      <td>idade</td>\n",
       "      <td>8603</td>\n",
       "      <td>5.23%</td>\n",
       "    </tr>\n",
       "    <tr>\n",
       "      <th>14</th>\n",
       "      <td>dia_semana</td>\n",
       "      <td>7887</td>\n",
       "      <td>4.79%</td>\n",
       "    </tr>\n",
       "    <tr>\n",
       "      <th>11</th>\n",
       "      <td>limite_total</td>\n",
       "      <td>6951</td>\n",
       "      <td>4.22%</td>\n",
       "    </tr>\n",
       "    <tr>\n",
       "      <th>0</th>\n",
       "      <td>cidade</td>\n",
       "      <td>2408</td>\n",
       "      <td>1.46%</td>\n",
       "    </tr>\n",
       "    <tr>\n",
       "      <th>6</th>\n",
       "      <td>dia_util</td>\n",
       "      <td>1806</td>\n",
       "      <td>1.10%</td>\n",
       "    </tr>\n",
       "    <tr>\n",
       "      <th>7</th>\n",
       "      <td>cidade_diferente</td>\n",
       "      <td>1315</td>\n",
       "      <td>0.80%</td>\n",
       "    </tr>\n",
       "    <tr>\n",
       "      <th>4</th>\n",
       "      <td>estado_estabelecimento</td>\n",
       "      <td>992</td>\n",
       "      <td>0.60%</td>\n",
       "    </tr>\n",
       "    <tr>\n",
       "      <th>8</th>\n",
       "      <td>estado_diferente</td>\n",
       "      <td>581</td>\n",
       "      <td>0.35%</td>\n",
       "    </tr>\n",
       "    <tr>\n",
       "      <th>1</th>\n",
       "      <td>estado</td>\n",
       "      <td>240</td>\n",
       "      <td>0.15%</td>\n",
       "    </tr>\n",
       "    <tr>\n",
       "      <th>3</th>\n",
       "      <td>pais_estabelecimento</td>\n",
       "      <td>178</td>\n",
       "      <td>0.11%</td>\n",
       "    </tr>\n",
       "    <tr>\n",
       "      <th>9</th>\n",
       "      <td>pais_diferente</td>\n",
       "      <td>25</td>\n",
       "      <td>0.02%</td>\n",
       "    </tr>\n",
       "    <tr>\n",
       "      <th>5</th>\n",
       "      <td>sexo</td>\n",
       "      <td>0</td>\n",
       "      <td>0.00%</td>\n",
       "    </tr>\n",
       "  </tbody>\n",
       "</table>\n",
       "</div>"
      ],
      "text/plain": [
       "                      feature  absolute_importance relative_importance\n",
       "13                      valor                28003              17.01%\n",
       "12                limite_disp                23099              14.03%\n",
       "17       valor_relativo_total                22885              13.90%\n",
       "18  valor_relativo_disponivel                22197              13.49%\n",
       "15                    dia_mes                18154              11.03%\n",
       "16                        mes                10252               6.23%\n",
       "2      cidade_estabelecimento                 9024               5.48%\n",
       "10                      idade                 8603               5.23%\n",
       "14                 dia_semana                 7887               4.79%\n",
       "11               limite_total                 6951               4.22%\n",
       "0                      cidade                 2408               1.46%\n",
       "6                    dia_util                 1806               1.10%\n",
       "7            cidade_diferente                 1315               0.80%\n",
       "4      estado_estabelecimento                  992               0.60%\n",
       "8            estado_diferente                  581               0.35%\n",
       "1                      estado                  240               0.15%\n",
       "3        pais_estabelecimento                  178               0.11%\n",
       "9              pais_diferente                   25               0.02%\n",
       "5                        sexo                    0               0.00%"
      ]
     },
     "execution_count": 10,
     "metadata": {},
     "output_type": "execute_result"
    }
   ],
   "source": [
    "generate_feature_importance_report(model, COLUMNS_SELECTION)"
   ]
  },
  {
   "cell_type": "markdown",
   "id": "4207f763-e8dd-42fe-9da7-48f9c0977c2b",
   "metadata": {},
   "source": [
    "## Concluding Remarks\n",
    " - Eficiency:\n",
    "     - The F1 performance on the `validation folds` are low. The main reason might be related to the unbalance and low frequency of some categories.- The F1 performance on the `validation folds` are low. The main reason might be related to the unbalance and low frequency of some categories.\n",
    "     - The worst performance was on the most recent fold, which has the highest ammount of training data.\n",
    "     - The best performance was on the second fold.\n",
    " - Features:\n",
    "     - Features based on `valor` and `limite` are the most important for the algorithm.\n",
    "     - From the new feature created, `dia_mes` and `mes` were the most relevant.     \n",
    "     - There are 7 features with less than 1% of relative importance. \n",
    " - \n",
    "\n",
    "\n",
    "Some alternative approaches could be experimented:\n",
    " - Perform hyperparameters tuning using [Optuna](https://optuna.org/).\n",
    " - Make older data less relevant by decreasing the weights of each record based on time.\n",
    " - Use [alternative encoders](https://contrib.scikit-learn.org/category_encoders) for high cardinality categories. `Catboost` and `LeaveOneOut` are some of the notable candidates.\n",
    " - Apply alternative algorithms to improve results.\n",
    " - Perform adversarial validation to check drift between `training` and `assessment` datasets.\n",
    " - Use SHAP to compute feature importance in a more reliable way."
   ]
  },
  {
   "cell_type": "code",
   "execution_count": null,
   "id": "7d069892-e64d-466f-ba4d-862d41b823b2",
   "metadata": {},
   "outputs": [],
   "source": []
  }
 ],
 "metadata": {
  "kernelspec": {
   "display_name": "Python 3 (ipykernel)",
   "language": "python",
   "name": "python3"
  },
  "language_info": {
   "codemirror_mode": {
    "name": "ipython",
    "version": 3
   },
   "file_extension": ".py",
   "mimetype": "text/x-python",
   "name": "python",
   "nbconvert_exporter": "python",
   "pygments_lexer": "ipython3",
   "version": "3.8.13"
  }
 },
 "nbformat": 4,
 "nbformat_minor": 5
}
