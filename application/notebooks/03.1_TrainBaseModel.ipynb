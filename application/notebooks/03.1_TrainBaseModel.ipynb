{
 "cells": [
  {
   "cell_type": "markdown",
   "id": "020812d5-b5a9-4f68-8948-aab89eb508bd",
   "metadata": {},
   "source": [
    "## Train Base Model -- Development of a Transaction Categorization Model\n",
    "\n",
    "This notebook aims to create the base model to categorize transactions. In this scenario, all categories will have the same importance, adjusted by the frequency.\n",
    "\n",
    "### Tasks:\n",
    " - [X] Load training dataset.\n",
    " - [X] Create k folds for experiments.\n",
    " - [X] Generate feature vector.\n",
    " - [X] Train model.\n",
    "     - [X] Adjust weights;\n",
    "     - [X] Compute metrics based on folds;\n",
    "     - [X] Train final model;\n",
    " - [X] Submit model, parameters and metrics do MLflow."
   ]
  },
  {
   "cell_type": "markdown",
   "id": "be3ab42d-6649-40e0-9005-2459a43766be",
   "metadata": {},
   "source": [
    "## Libraries and Configurations"
   ]
  },
  {
   "cell_type": "code",
   "execution_count": 1,
   "id": "cf8586e5-c7b0-4145-b093-427f6d926480",
   "metadata": {},
   "outputs": [],
   "source": [
    "import copy\n",
    "\n",
    "import pandas as pd\n",
    "from lightgbm.sklearn import LGBMClassifier\n",
    "\n",
    "import mlflow\n",
    "import mlflow.sklearn\n",
    "from mlflow.tracking import MlflowClient\n",
    "from mlflow.models.signature import infer_signature\n",
    "\n",
    "import seaborn as sns\n",
    "import matplotlib.pyplot as plt\n",
    "from IPython.core.display import HTML\n",
    "\n",
    "from application.code.core.configurations import configs\n",
    "from application.code.adapters.storage import read_dataset\n",
    "from application.code.core.dataset_split_service import generate_folds, describe_datasets\n",
    "from application.code.core.feature_engineering import engineer_features, standardize_labels\n",
    "from application.code.core.model_training_service import train_model\n",
    "from application.code.core.model_training import (clean_data,\n",
    "                                                  vectorize_folds,\n",
    "                                                  compute_weights,\n",
    "                                                  generate_encoders,\n",
    "                                                  vectorize_dataset, \n",
    "                                                 combine_feature_columns)\n",
    "from application.code.core.model_evaluation import (compute_multiclass_classification_metrics,\n",
    "                                                    generate_feature_importance_report,\n",
    "                                                    generate_confusion_matrix,\n",
    "                                                    plot_folds_metrics)\n",
    "\n",
    "from application.code.adapters.mlflow_adapter import (log_dataframe_artifact, \n",
    "                                                      get_mlflow_artifact_content,\n",
    "                                                      register_model,\n",
    "                                                      publish_model)\n",
    "\n",
    "from application.code.core.financial_classification_model import FinancialClassificationModel\n",
    "\n",
    "sns.set_style(\"whitegrid\")"
   ]
  },
  {
   "cell_type": "markdown",
   "id": "c1af5599-b261-4c14-9554-d1e967d57f34",
   "metadata": {},
   "source": [
    "## Constants"
   ]
  },
  {
   "cell_type": "code",
   "execution_count": 2,
   "id": "2a805dcf-e481-4371-810c-21ed866d78ad",
   "metadata": {},
   "outputs": [],
   "source": [
    "BASE_MODEL_PARAMS = {\n",
    "    'objective': 'multiclass', \n",
    "    'metric': 'multi_error',\n",
    "    'verbosity': -1, \n",
    "    'n_estimators': 500,\n",
    "    'random_state': configs.model_training.model_seed,\n",
    "    'deterministic': True\n",
    "}\n",
    "\n",
    "TARGET_COLUMN = 'grupo_estabelecimento'\n",
    "\n",
    "CATEGORICAL_COLUMNS = ['cidade', 'estado', 'sexo', \n",
    "                       'cidade_estabelecimento','pais_estabelecimento']\n",
    "\n",
    "HIGH_CARDINALITY_CATEGORICAL_COLUMNS = [\n",
    "    'cidade', 'estado', \n",
    "    'cidade_estabelecimento', 'pais_estabelecimento', 'estado_estabelecimento',\n",
    "]\n",
    "\n",
    "BINARY_COLUMNS = ['sexo',  'dia_util',\n",
    "                  'cidade_diferente', 'estado_diferente', 'pais_diferente',]\n",
    "\n",
    "NUMERIC_COLUMNS = ['idade',\n",
    "                   'limite_total', 'limite_disp', 'valor', \n",
    "                   'dia_semana', 'dia_mes', 'mes',\n",
    "                   'valor_relativo_total', 'valor_relativo_disponivel',\n",
    "                  ]\n",
    "\n",
    "COLUMNS_SELECTION  = combine_feature_columns(HIGH_CARDINALITY_CATEGORICAL_COLUMNS,\n",
    "                                             BINARY_COLUMNS,\n",
    "                                             NUMERIC_COLUMNS)\n",
    "\n",
    "EXPERIMENT_RUN_NAME = 'Base Model'"
   ]
  },
  {
   "cell_type": "markdown",
   "id": "60761921-3817-4755-b0c0-cbb0e2f06509",
   "metadata": {},
   "source": [
    "## MLflow Settings"
   ]
  },
  {
   "cell_type": "code",
   "execution_count": 3,
   "id": "0ab71e61-63b0-45b9-97a9-e8f9c230cf12",
   "metadata": {},
   "outputs": [],
   "source": [
    "mlflow.set_tracking_uri(configs.mlflow.uri)\n",
    "mlflow.set_experiment(configs.mlflow.experiment_name);"
   ]
  },
  {
   "cell_type": "markdown",
   "id": "52d4160a-5e53-4b6a-b100-cde8b23d5498",
   "metadata": {},
   "source": [
    "## Load Dataset\n",
    "\n",
    "The `training` dataset is loaded to create the model perform experiments."
   ]
  },
  {
   "cell_type": "code",
   "execution_count": 4,
   "id": "5eaaec26-3dd5-47c1-82f3-1655b8ee07aa",
   "metadata": {},
   "outputs": [
    {
     "data": {
      "text/html": [
       "<h4>Dataset</h4>"
      ],
      "text/plain": [
       "<IPython.core.display.HTML object>"
      ]
     },
     "metadata": {},
     "output_type": "display_data"
    },
    {
     "name": "stdout",
     "output_type": "stream",
     "text": [
      "Records: 3944\n"
     ]
    }
   ],
   "source": [
    "df = read_dataset(base_path=configs.datasets.base_path, stage='raw', file_name='train')\n",
    "\n",
    "display(HTML('<h4>Dataset</h4>'))\n",
    "print(f'Records: {len(df)}')"
   ]
  },
  {
   "cell_type": "markdown",
   "id": "ae287154-f98d-4581-8e8e-fda010f600bd",
   "metadata": {},
   "source": [
    "To create the model and perform experiments, only the `training` dataset will be used. The evaluation will be performed by creating some time-oriented `validation` datasets using the same methodology used to create the `test` dataset.\n",
    "\n",
    "3 sets of `training` and `validation` sets will be created, each of them representing a fold. At the end, it will be possible to have an efficacy measurement with a variance notion.\n",
    "It is important to use `validation` set avoid using the `test` several times. Ideally, it should be used only once, for the final assessment."
   ]
  },
  {
   "cell_type": "code",
   "execution_count": 5,
   "id": "c3e083d8-d0f6-43f5-a27d-9210689b1b29",
   "metadata": {},
   "outputs": [],
   "source": [
    "folds = generate_folds(df,\n",
    "                       n_folds=configs.model_training.folds,\n",
    "                       min_validation_size=configs.model_training.min_validation_size,\n",
    "                       seed=configs.model_training.data_seed)"
   ]
  },
  {
   "cell_type": "markdown",
   "id": "f4b037fb-3f71-455a-af5d-0aaf78f1e629",
   "metadata": {},
   "source": [
    "Summarize and validate folds (`training` and `validation` sets should not share records)."
   ]
  },
  {
   "cell_type": "code",
   "execution_count": 6,
   "id": "2f420383-2dfb-4386-b887-5999ac9acc26",
   "metadata": {},
   "outputs": [
    {
     "data": {
      "text/html": [
       "<strong>Fold <code>0</code></strong>"
      ],
      "text/plain": [
       "<IPython.core.display.HTML object>"
      ]
     },
     "metadata": {},
     "output_type": "display_data"
    },
    {
     "name": "stdout",
     "output_type": "stream",
     "text": [
      " - Split Period: 2019-12-31\n",
      " - Training:\n",
      "\t - Size: 3533\n",
      "\t - Days: 274\n",
      "\t - Labels: 21\n",
      " - Assessment:\n",
      "\t - Size: 27\n",
      "\t - Days: 27\n",
      "\t - Labels: 18\n",
      " - Assessment Relative Size: 10.42%\n",
      "\n"
     ]
    },
    {
     "data": {
      "text/html": [
       "<strong>Fold <code>1</code></strong>"
      ],
      "text/plain": [
       "<IPython.core.display.HTML object>"
      ]
     },
     "metadata": {},
     "output_type": "display_data"
    },
    {
     "name": "stdout",
     "output_type": "stream",
     "text": [
      " - Split Period: 2019-12-03\n",
      " - Training:\n",
      "\t - Size: 3108\n",
      "\t - Days: 246\n",
      "\t - Labels: 21\n",
      " - Assessment:\n",
      "\t - Size: 28\n",
      "\t - Days: 28\n",
      "\t - Labels: 19\n",
      " - Assessment Relative Size: 12.03%\n",
      "\n"
     ]
    },
    {
     "data": {
      "text/html": [
       "<strong>Fold <code>2</code></strong>"
      ],
      "text/plain": [
       "<IPython.core.display.HTML object>"
      ]
     },
     "metadata": {},
     "output_type": "display_data"
    },
    {
     "name": "stdout",
     "output_type": "stream",
     "text": [
      " - Split Period: 2019-11-06\n",
      " - Training:\n",
      "\t - Size: 2679\n",
      "\t - Days: 219\n",
      "\t - Labels: 21\n",
      " - Assessment:\n",
      "\t - Size: 27\n",
      "\t - Days: 27\n",
      "\t - Labels: 18\n",
      " - Assessment Relative Size: 13.80%\n",
      "\n"
     ]
    },
    {
     "data": {
      "text/html": [
       "<strong>Fold <code>3</code></strong>"
      ],
      "text/plain": [
       "<IPython.core.display.HTML object>"
      ]
     },
     "metadata": {},
     "output_type": "display_data"
    },
    {
     "name": "stdout",
     "output_type": "stream",
     "text": [
      " - Split Period: 2019-10-04\n",
      " - Training:\n",
      "\t - Size: 2243\n",
      "\t - Days: 186\n",
      "\t - Labels: 20\n",
      " - Assessment:\n",
      "\t - Size: 33\n",
      "\t - Days: 33\n",
      "\t - Labels: 17\n",
      " - Assessment Relative Size: 16.27%\n",
      "\n"
     ]
    },
    {
     "data": {
      "text/html": [
       "<strong>Fold <code>4</code></strong>"
      ],
      "text/plain": [
       "<IPython.core.display.HTML object>"
      ]
     },
     "metadata": {},
     "output_type": "display_data"
    },
    {
     "name": "stdout",
     "output_type": "stream",
     "text": [
      " - Split Period: 2019-08-27\n",
      " - Training:\n",
      "\t - Size: 1826\n",
      "\t - Days: 148\n",
      "\t - Labels: 20\n",
      " - Assessment:\n",
      "\t - Size: 38\n",
      "\t - Days: 38\n",
      "\t - Labels: 18\n",
      " - Assessment Relative Size: 18.59%\n",
      "\n"
     ]
    }
   ],
   "source": [
    "for ix, (train_df, valid_df) in enumerate(folds):\n",
    "\n",
    "    display(HTML(f'<strong>Fold <code>{ix}</code></strong>'))\n",
    "    describe_datasets(train_df, valid_df, TARGET_COLUMN)\n",
    "    print()\n",
    "\n",
    "    train_periods = set(train_df[\"period\"].tolist())\n",
    "    valid_periods = set(valid_df[\"period\"].tolist())\n",
    "\n",
    "    assert len(train_periods & valid_periods) == 0, \\\n",
    "    'Training and Validation share dates.'"
   ]
  },
  {
   "cell_type": "markdown",
   "id": "7c77dc46-d3ce-47bc-85e1-c6bea4b69552",
   "metadata": {},
   "source": [
    "## Dataset Preprocessing and Feature Vectorization\n",
    "\n",
    "Vectorization of each fold based on the following strategy:\n",
    " - For each fold:\n",
    "   - Perform basic cleaning:\n",
    "       - Remove duplicated records.\n",
    "       - Format column names.\n",
    "       - Cast column types.\n",
    "       - Standardize string values.\n",
    "   - Create new features based on the orignal features.\n",
    "   - Use the `training` set to create encoders (label and categorical columns);\n",
    "       - `LabelEncoder` represents target labels into numbers.\n",
    "       - `CountEncoder` represents high cardinality categorical data into numbers -- This method deals with missing values and avoid the need to create multiple columns to represent the values, reducing the sparsity of the feature vector.\n",
    "    - Transform binary columns into `0` or `1`\n",
    "   \n",
    "The value are not scaled due to the use of a tree-based algorithm (LightGBM), which is not sensitive to feature scale -- [besides some evidences possibilities](https://arxiv.org/pdf/1611.04561.pdf).\n"
   ]
  },
  {
   "cell_type": "code",
   "execution_count": 7,
   "id": "76ab97de-f047-49c2-b840-1cb22adbf78e",
   "metadata": {},
   "outputs": [],
   "source": [
    "vectorized_folds = vectorize_folds(folds,\n",
    "                                   columns_selection=COLUMNS_SELECTION,\n",
    "                                   categorical_columns=CATEGORICAL_COLUMNS,\n",
    "                                   high_cardinality_categorical_columns=HIGH_CARDINALITY_CATEGORICAL_COLUMNS,\n",
    "                                   binary_columns=BINARY_COLUMNS,\n",
    "                                   target_column=TARGET_COLUMN,\n",
    "                                  )"
   ]
  },
  {
   "cell_type": "markdown",
   "id": "46eb598b-26cf-4631-af7e-a554c199f3bf",
   "metadata": {},
   "source": [
    "## Model Training on Folds\n",
    "\n",
    "As stated before, LightGBM will be used as algorithm to learn a model. It was chosen because:\n",
    " - Is based on trees and does not require scalling features.\n",
    " - Has good results on Industry and at Machine Learning competitions.\n",
    " - Is able to deal with missing values.\n",
    " - Has good efficiency and support for high volume of data (using GPU or distributed computing). \n",
    " - Provides an API compatible with SKlearn.\n",
    " - Has a good [documentation](https://lightgbm.readthedocs.io/en/v3.3.2/) and community content (e.g., blogs and forums).\n",
    " - Is supported by different ML tools (e.g., Optuna, ONNX, Dask, and Spark)\n",
    "\n",
    "### Training and Evaluation on Folds\n",
    "\n",
    "For each fold (a pair of `training` and `validation` sets), the steps performed are:\n",
    " - Compute *class weights* to make all records have the same importance for the model -- which is a strategy to fix the unbalancing problem without the need to generate synthetic data.\n",
    " - Train the model.\n",
    " - Make predictions based on the validation data.\n",
    " - Compute evaluation metrics based on validation labels.\n",
    " - Record resources to analyze."
   ]
  },
  {
   "cell_type": "code",
   "execution_count": 8,
   "id": "012ad98a-1515-4653-a540-76e3227682b5",
   "metadata": {},
   "outputs": [
    {
     "name": "stdout",
     "output_type": "stream",
     "text": [
      "CPU times: user 4min 47s, sys: 1.9 s, total: 4min 49s\n",
      "Wall time: 40.2 s\n"
     ]
    }
   ],
   "source": [
    "%%time\n",
    "\n",
    "model_params = copy.deepcopy(BASE_MODEL_PARAMS)\n",
    "\n",
    "iterations_tracking = []\n",
    "resources = []\n",
    "\n",
    "for ix, ((train_X, train_y), (valid_X, valid_y), labels) in enumerate(vectorized_folds):\n",
    "\n",
    "    class_weights = compute_weights(train_y)\n",
    "\n",
    "    model_params.update({'class_weight': class_weights,\n",
    "                         'num_class': len(set(train_y))})\n",
    "\n",
    "    model = LGBMClassifier(**model_params)\n",
    "    model.fit(train_X, train_y)\n",
    "\n",
    "    preds = model.predict(valid_X)\n",
    "    eval_metrics = compute_multiclass_classification_metrics(valid_y, \n",
    "                                                             preds)\n",
    "\n",
    "    iteration_tracking = {**{'Fold': ix,\n",
    "                             'training_size': train_X.shape[0],\n",
    "                             'validation_size': valid_X.shape[0],},\n",
    "                          **eval_metrics}\n",
    "    iterations_tracking.append(iteration_tracking)    \n",
    "    \n",
    "    resources.append({'model': model,\n",
    "                      'pred': preds,\n",
    "                      'y': valid_y,\n",
    "                      'labels': labels\n",
    "                     })"
   ]
  },
  {
   "cell_type": "markdown",
   "id": "54cb5a10-f0a9-4a1a-baaf-0fddb2953cdd",
   "metadata": {},
   "source": [
    "### Folds Metrics\n",
    "\n",
    "Considering the unbalance of the labels, it is important to consider metrics that are not sensitive to it. For that purpose, `Precision`, `Recall`, and `F1` are good alternatives to provide information about each class. `Accuracy` might not be the best to be affected by the unbalance -- but there are `balanced` versions of it that could be used.\n",
    "\n",
    "\n",
    "The selected metrics are computed with three [average strategies available at Sklearn](https://scikit-learn.org/stable/modules/generated/sklearn.metrics.precision_score.html#sklearn.metrics.precision_score):\n",
    " - `micro`: Calculate metrics globally by counting the total true positives, false negatives and false positives.\n",
    " - `macro`: Calculate metrics for each label, and find their unweighted mean. This does not take label imbalance into account.\n",
    " - `weighted`: Calculate metrics for each label, and find their average weighted by support (the number of true instances for each label). This alters ‘macro’ to account for label imbalance; it can result in an F-score that is not between precision and recall."
   ]
  },
  {
   "cell_type": "code",
   "execution_count": 9,
   "id": "6edbe647-e13e-41a6-9755-4d726db6d5be",
   "metadata": {},
   "outputs": [
    {
     "data": {
      "text/html": [
       "<h4>Individual Folds Results</h4>"
      ],
      "text/plain": [
       "<IPython.core.display.HTML object>"
      ]
     },
     "metadata": {},
     "output_type": "display_data"
    },
    {
     "data": {
      "text/html": [
       "<div>\n",
       "<style scoped>\n",
       "    .dataframe tbody tr th:only-of-type {\n",
       "        vertical-align: middle;\n",
       "    }\n",
       "\n",
       "    .dataframe tbody tr th {\n",
       "        vertical-align: top;\n",
       "    }\n",
       "\n",
       "    .dataframe thead th {\n",
       "        text-align: right;\n",
       "    }\n",
       "</style>\n",
       "<table border=\"1\" class=\"dataframe\">\n",
       "  <thead>\n",
       "    <tr style=\"text-align: right;\">\n",
       "      <th></th>\n",
       "      <th>Fold</th>\n",
       "      <th>training_size</th>\n",
       "      <th>validation_size</th>\n",
       "      <th>macro_precision</th>\n",
       "      <th>macro_recall</th>\n",
       "      <th>macro_f1</th>\n",
       "      <th>micro_precision</th>\n",
       "      <th>micro_recall</th>\n",
       "      <th>micro_f1</th>\n",
       "      <th>weighted_precision</th>\n",
       "      <th>weighted_recall</th>\n",
       "      <th>weighted_f1</th>\n",
       "    </tr>\n",
       "  </thead>\n",
       "  <tbody>\n",
       "    <tr>\n",
       "      <th>0</th>\n",
       "      <td>0</td>\n",
       "      <td>3531</td>\n",
       "      <td>411</td>\n",
       "      <td>0.168591</td>\n",
       "      <td>0.146911</td>\n",
       "      <td>0.152324</td>\n",
       "      <td>0.420925</td>\n",
       "      <td>0.420925</td>\n",
       "      <td>0.420925</td>\n",
       "      <td>0.408197</td>\n",
       "      <td>0.420925</td>\n",
       "      <td>0.409210</td>\n",
       "    </tr>\n",
       "    <tr>\n",
       "      <th>1</th>\n",
       "      <td>1</td>\n",
       "      <td>3106</td>\n",
       "      <td>425</td>\n",
       "      <td>0.340539</td>\n",
       "      <td>0.297991</td>\n",
       "      <td>0.300029</td>\n",
       "      <td>0.432941</td>\n",
       "      <td>0.432941</td>\n",
       "      <td>0.432941</td>\n",
       "      <td>0.474674</td>\n",
       "      <td>0.432941</td>\n",
       "      <td>0.426542</td>\n",
       "    </tr>\n",
       "    <tr>\n",
       "      <th>2</th>\n",
       "      <td>2</td>\n",
       "      <td>2677</td>\n",
       "      <td>429</td>\n",
       "      <td>0.298560</td>\n",
       "      <td>0.308905</td>\n",
       "      <td>0.293576</td>\n",
       "      <td>0.400932</td>\n",
       "      <td>0.400932</td>\n",
       "      <td>0.400932</td>\n",
       "      <td>0.396935</td>\n",
       "      <td>0.400932</td>\n",
       "      <td>0.396931</td>\n",
       "    </tr>\n",
       "    <tr>\n",
       "      <th>3</th>\n",
       "      <td>3</td>\n",
       "      <td>2241</td>\n",
       "      <td>436</td>\n",
       "      <td>0.262015</td>\n",
       "      <td>0.260289</td>\n",
       "      <td>0.251683</td>\n",
       "      <td>0.440367</td>\n",
       "      <td>0.440367</td>\n",
       "      <td>0.440367</td>\n",
       "      <td>0.426525</td>\n",
       "      <td>0.440367</td>\n",
       "      <td>0.422789</td>\n",
       "    </tr>\n",
       "    <tr>\n",
       "      <th>4</th>\n",
       "      <td>4</td>\n",
       "      <td>1824</td>\n",
       "      <td>417</td>\n",
       "      <td>0.267318</td>\n",
       "      <td>0.271522</td>\n",
       "      <td>0.245769</td>\n",
       "      <td>0.489209</td>\n",
       "      <td>0.489209</td>\n",
       "      <td>0.489209</td>\n",
       "      <td>0.480855</td>\n",
       "      <td>0.489209</td>\n",
       "      <td>0.473533</td>\n",
       "    </tr>\n",
       "  </tbody>\n",
       "</table>\n",
       "</div>"
      ],
      "text/plain": [
       "   Fold  training_size  validation_size  macro_precision  macro_recall  \\\n",
       "0     0           3531              411         0.168591      0.146911   \n",
       "1     1           3106              425         0.340539      0.297991   \n",
       "2     2           2677              429         0.298560      0.308905   \n",
       "3     3           2241              436         0.262015      0.260289   \n",
       "4     4           1824              417         0.267318      0.271522   \n",
       "\n",
       "   macro_f1  micro_precision  micro_recall  micro_f1  weighted_precision  \\\n",
       "0  0.152324         0.420925      0.420925  0.420925            0.408197   \n",
       "1  0.300029         0.432941      0.432941  0.432941            0.474674   \n",
       "2  0.293576         0.400932      0.400932  0.400932            0.396935   \n",
       "3  0.251683         0.440367      0.440367  0.440367            0.426525   \n",
       "4  0.245769         0.489209      0.489209  0.489209            0.480855   \n",
       "\n",
       "   weighted_recall  weighted_f1  \n",
       "0         0.420925     0.409210  \n",
       "1         0.432941     0.426542  \n",
       "2         0.400932     0.396931  \n",
       "3         0.440367     0.422789  \n",
       "4         0.489209     0.473533  "
      ]
     },
     "metadata": {},
     "output_type": "display_data"
    },
    {
     "data": {
      "image/png": "[encoded data removed]",
      "text/plain": [
       "<Figure size 1500x500 with 1 Axes>"
      ]
     },
     "metadata": {},
     "output_type": "display_data"
    },
    {
     "data": {
      "text/html": [
       "<strong>Summarized Fold Metrics</strong>"
      ],
      "text/plain": [
       "<IPython.core.display.HTML object>"
      ]
     },
     "metadata": {},
     "output_type": "display_data"
    },
    {
     "data": {
      "text/html": [
       "<div>\n",
       "<style scoped>\n",
       "    .dataframe tbody tr th:only-of-type {\n",
       "        vertical-align: middle;\n",
       "    }\n",
       "\n",
       "    .dataframe tbody tr th {\n",
       "        vertical-align: top;\n",
       "    }\n",
       "\n",
       "    .dataframe thead th {\n",
       "        text-align: right;\n",
       "    }\n",
       "</style>\n",
       "<table border=\"1\" class=\"dataframe\">\n",
       "  <thead>\n",
       "    <tr style=\"text-align: right;\">\n",
       "      <th></th>\n",
       "      <th>mean</th>\n",
       "      <th>std</th>\n",
       "    </tr>\n",
       "  </thead>\n",
       "  <tbody>\n",
       "    <tr>\n",
       "      <th>macro_precision</th>\n",
       "      <td>0.267404</td>\n",
       "      <td>0.063467</td>\n",
       "    </tr>\n",
       "    <tr>\n",
       "      <th>macro_recall</th>\n",
       "      <td>0.257124</td>\n",
       "      <td>0.064644</td>\n",
       "    </tr>\n",
       "    <tr>\n",
       "      <th>macro_f1</th>\n",
       "      <td>0.248676</td>\n",
       "      <td>0.059064</td>\n",
       "    </tr>\n",
       "    <tr>\n",
       "      <th>micro_precision</th>\n",
       "      <td>0.436875</td>\n",
       "      <td>0.032836</td>\n",
       "    </tr>\n",
       "    <tr>\n",
       "      <th>micro_recall</th>\n",
       "      <td>0.436875</td>\n",
       "      <td>0.032836</td>\n",
       "    </tr>\n",
       "    <tr>\n",
       "      <th>micro_f1</th>\n",
       "      <td>0.436875</td>\n",
       "      <td>0.032836</td>\n",
       "    </tr>\n",
       "    <tr>\n",
       "      <th>weighted_precision</th>\n",
       "      <td>0.437437</td>\n",
       "      <td>0.038361</td>\n",
       "    </tr>\n",
       "    <tr>\n",
       "      <th>weighted_recall</th>\n",
       "      <td>0.436875</td>\n",
       "      <td>0.032836</td>\n",
       "    </tr>\n",
       "    <tr>\n",
       "      <th>weighted_f1</th>\n",
       "      <td>0.425801</td>\n",
       "      <td>0.029141</td>\n",
       "    </tr>\n",
       "  </tbody>\n",
       "</table>\n",
       "</div>"
      ],
      "text/plain": [
       "                        mean       std\n",
       "macro_precision     0.267404  0.063467\n",
       "macro_recall        0.257124  0.064644\n",
       "macro_f1            0.248676  0.059064\n",
       "micro_precision     0.436875  0.032836\n",
       "micro_recall        0.436875  0.032836\n",
       "micro_f1            0.436875  0.032836\n",
       "weighted_precision  0.437437  0.038361\n",
       "weighted_recall     0.436875  0.032836\n",
       "weighted_f1         0.425801  0.029141"
      ]
     },
     "metadata": {},
     "output_type": "display_data"
    }
   ],
   "source": [
    "folds_evaluation_df = pd.DataFrame(iterations_tracking)\n",
    "\n",
    "display(HTML('<h4>Individual Folds Results</h4>'))\n",
    "display(folds_evaluation_df)\n",
    "\n",
    "plot_folds_metrics(folds_evaluation_df)\n",
    "\n",
    "display(HTML('<strong>Summarized Fold Metrics</strong>'))\n",
    "summarized_validation_metrics_df = (\n",
    "    folds_evaluation_df\n",
    "    .drop(columns=['Fold', 'training_size', 'validation_size'])\n",
    "    .agg(['mean', 'std'])\n",
    "    .T\n",
    ")\n",
    "display(summarized_validation_metrics_df)"
   ]
  },
  {
   "cell_type": "markdown",
   "id": "1a31d609-0c37-411c-a318-662544e8c866",
   "metadata": {},
   "source": [
    "It is possible to observe that:\n",
    " - `macro` average penalizes the model due to the absence or low number of records related to most of the classes and the dataset umbalance.\n",
    " - `micro` average shows that, in average, the model predicts almost 45% of the correct labels.\n",
    " - `weighted` average shows a slightly improvement over the `micro` average, probably because the model is correctly predicting the most frequent classes and the weighting is increasing the metric.\n",
    " \n",
    "For this scenario, `micro` average seems to be relevant for the overwall model performance, while the `weighted` average computes the performance considering the most frequent classes."
   ]
  },
  {
   "cell_type": "markdown",
   "id": "44875f4c-882f-4d26-9952-3dfdc04ffe73",
   "metadata": {},
   "source": [
    "### Confusion Matrix\n",
    "\n",
    "Select the top 10 labels (based on frequency) to provide a better view of the data."
   ]
  },
  {
   "cell_type": "code",
   "execution_count": 10,
   "id": "8a5afbf2-3310-4b5d-9aa7-d6ed69d048d3",
   "metadata": {},
   "outputs": [],
   "source": [
    "top_labels_df = (df\n",
    " .pipe(clean_data, ['grupo_estabelecimento'])  \n",
    " [['grupo_estabelecimento']]\n",
    " .assign(records=1)\n",
    " .groupby('grupo_estabelecimento')\n",
    " .sum()\n",
    " .reset_index()\n",
    " .sort_values(by='records', ascending=False)\n",
    " .head(10)\n",
    ")\n",
    "\n",
    "top_labels = top_labels_df['grupo_estabelecimento'].tolist()"
   ]
  },
  {
   "cell_type": "markdown",
   "id": "0a31bf4a-ead6-4680-ab05-cad62770443c",
   "metadata": {},
   "source": [
    "Next, the confusion matrix is generated and the results are presented for the top 10 labels."
   ]
  },
  {
   "cell_type": "code",
   "execution_count": 11,
   "id": "cd935dd4-38f1-4a4a-8ad0-7c332bda456b",
   "metadata": {},
   "outputs": [
    {
     "data": {
      "text/html": [
       "<strong>Confusion Matrix for Top 10 Categories based on Model for Fold <code>0</code></strong>"
      ],
      "text/plain": [
       "<IPython.core.display.HTML object>"
      ]
     },
     "metadata": {},
     "output_type": "display_data"
    },
    {
     "data": {
      "text/html": [
       "<div>\n",
       "<style scoped>\n",
       "    .dataframe tbody tr th:only-of-type {\n",
       "        vertical-align: middle;\n",
       "    }\n",
       "\n",
       "    .dataframe tbody tr th {\n",
       "        vertical-align: top;\n",
       "    }\n",
       "\n",
       "    .dataframe thead th {\n",
       "        text-align: right;\n",
       "    }\n",
       "</style>\n",
       "<table border=\"1\" class=\"dataframe\">\n",
       "  <thead>\n",
       "    <tr style=\"text-align: right;\">\n",
       "      <th></th>\n",
       "      <th>serviço</th>\n",
       "      <th>restaurante</th>\n",
       "      <th>varejo</th>\n",
       "      <th>supermercados</th>\n",
       "      <th>vestuário</th>\n",
       "      <th>farmácias</th>\n",
       "      <th>posto de gás</th>\n",
       "      <th>compra online</th>\n",
       "      <th>artigos eletro</th>\n",
       "      <th>loja de departamento</th>\n",
       "    </tr>\n",
       "  </thead>\n",
       "  <tbody>\n",
       "    <tr>\n",
       "      <th>serviço</th>\n",
       "      <td>100</td>\n",
       "      <td>11</td>\n",
       "      <td>7</td>\n",
       "      <td>7</td>\n",
       "      <td>1</td>\n",
       "      <td>3</td>\n",
       "      <td>0</td>\n",
       "      <td>1</td>\n",
       "      <td>0</td>\n",
       "      <td>1</td>\n",
       "    </tr>\n",
       "    <tr>\n",
       "      <th>restaurante</th>\n",
       "      <td>11</td>\n",
       "      <td>24</td>\n",
       "      <td>5</td>\n",
       "      <td>16</td>\n",
       "      <td>4</td>\n",
       "      <td>2</td>\n",
       "      <td>1</td>\n",
       "      <td>1</td>\n",
       "      <td>0</td>\n",
       "      <td>0</td>\n",
       "    </tr>\n",
       "    <tr>\n",
       "      <th>varejo</th>\n",
       "      <td>12</td>\n",
       "      <td>9</td>\n",
       "      <td>13</td>\n",
       "      <td>10</td>\n",
       "      <td>3</td>\n",
       "      <td>1</td>\n",
       "      <td>0</td>\n",
       "      <td>5</td>\n",
       "      <td>1</td>\n",
       "      <td>0</td>\n",
       "    </tr>\n",
       "    <tr>\n",
       "      <th>supermercados</th>\n",
       "      <td>8</td>\n",
       "      <td>9</td>\n",
       "      <td>13</td>\n",
       "      <td>14</td>\n",
       "      <td>3</td>\n",
       "      <td>1</td>\n",
       "      <td>0</td>\n",
       "      <td>1</td>\n",
       "      <td>1</td>\n",
       "      <td>0</td>\n",
       "    </tr>\n",
       "    <tr>\n",
       "      <th>vestuário</th>\n",
       "      <td>6</td>\n",
       "      <td>2</td>\n",
       "      <td>3</td>\n",
       "      <td>1</td>\n",
       "      <td>2</td>\n",
       "      <td>1</td>\n",
       "      <td>1</td>\n",
       "      <td>1</td>\n",
       "      <td>0</td>\n",
       "      <td>1</td>\n",
       "    </tr>\n",
       "    <tr>\n",
       "      <th>farmácias</th>\n",
       "      <td>5</td>\n",
       "      <td>2</td>\n",
       "      <td>4</td>\n",
       "      <td>2</td>\n",
       "      <td>0</td>\n",
       "      <td>1</td>\n",
       "      <td>0</td>\n",
       "      <td>0</td>\n",
       "      <td>0</td>\n",
       "      <td>1</td>\n",
       "    </tr>\n",
       "    <tr>\n",
       "      <th>posto de gás</th>\n",
       "      <td>1</td>\n",
       "      <td>5</td>\n",
       "      <td>1</td>\n",
       "      <td>4</td>\n",
       "      <td>0</td>\n",
       "      <td>1</td>\n",
       "      <td>5</td>\n",
       "      <td>0</td>\n",
       "      <td>0</td>\n",
       "      <td>0</td>\n",
       "    </tr>\n",
       "    <tr>\n",
       "      <th>compra online</th>\n",
       "      <td>1</td>\n",
       "      <td>1</td>\n",
       "      <td>2</td>\n",
       "      <td>3</td>\n",
       "      <td>1</td>\n",
       "      <td>0</td>\n",
       "      <td>0</td>\n",
       "      <td>9</td>\n",
       "      <td>1</td>\n",
       "      <td>1</td>\n",
       "    </tr>\n",
       "    <tr>\n",
       "      <th>artigos eletro</th>\n",
       "      <td>2</td>\n",
       "      <td>1</td>\n",
       "      <td>0</td>\n",
       "      <td>0</td>\n",
       "      <td>2</td>\n",
       "      <td>0</td>\n",
       "      <td>0</td>\n",
       "      <td>1</td>\n",
       "      <td>4</td>\n",
       "      <td>0</td>\n",
       "    </tr>\n",
       "    <tr>\n",
       "      <th>loja de departamento</th>\n",
       "      <td>3</td>\n",
       "      <td>1</td>\n",
       "      <td>2</td>\n",
       "      <td>1</td>\n",
       "      <td>0</td>\n",
       "      <td>0</td>\n",
       "      <td>0</td>\n",
       "      <td>0</td>\n",
       "      <td>0</td>\n",
       "      <td>1</td>\n",
       "    </tr>\n",
       "  </tbody>\n",
       "</table>\n",
       "</div>"
      ],
      "text/plain": [
       "                      serviço  restaurante  varejo  supermercados  vestuário  \\\n",
       "serviço                   100           11       7              7          1   \n",
       "restaurante                11           24       5             16          4   \n",
       "varejo                     12            9      13             10          3   \n",
       "supermercados               8            9      13             14          3   \n",
       "vestuário                   6            2       3              1          2   \n",
       "farmácias                   5            2       4              2          0   \n",
       "posto de gás                1            5       1              4          0   \n",
       "compra online               1            1       2              3          1   \n",
       "artigos eletro              2            1       0              0          2   \n",
       "loja de departamento        3            1       2              1          0   \n",
       "\n",
       "                      farmácias  posto de gás  compra online  artigos eletro  \\\n",
       "serviço                       3             0              1               0   \n",
       "restaurante                   2             1              1               0   \n",
       "varejo                        1             0              5               1   \n",
       "supermercados                 1             0              1               1   \n",
       "vestuário                     1             1              1               0   \n",
       "farmácias                     1             0              0               0   \n",
       "posto de gás                  1             5              0               0   \n",
       "compra online                 0             0              9               1   \n",
       "artigos eletro                0             0              1               4   \n",
       "loja de departamento          0             0              0               0   \n",
       "\n",
       "                      loja de departamento  \n",
       "serviço                                  1  \n",
       "restaurante                              0  \n",
       "varejo                                   0  \n",
       "supermercados                            0  \n",
       "vestuário                                1  \n",
       "farmácias                                1  \n",
       "posto de gás                             0  \n",
       "compra online                            1  \n",
       "artigos eletro                           0  \n",
       "loja de departamento                     1  "
      ]
     },
     "execution_count": 11,
     "metadata": {},
     "output_type": "execute_result"
    }
   ],
   "source": [
    "selected_fold = 0\n",
    "resource = resources[selected_fold]\n",
    "display(HTML(f'<strong>Confusion Matrix for Top 10 Categories based on Model for Fold <code>{selected_fold}</code></strong>'))\n",
    "confusion_matrix_df = generate_confusion_matrix(resource['y'], \n",
    "                                                resource['pred'], \n",
    "                                                resource['labels'])\n",
    "\n",
    "(\n",
    "    confusion_matrix_df\n",
    "    .loc[top_labels, top_labels]    \n",
    ")"
   ]
  },
  {
   "cell_type": "markdown",
   "id": "975f18a7-c890-45b7-a06b-95d7e2387007",
   "metadata": {},
   "source": [
    "Some interesting points based on the confusion matrix:\n",
    " - `serviço` is the most popular category and has the best number of right answers. It \"loses\" and \"gains\" predictions from the next top three categories (`restaurante`, `supermercados`, and `varejo`).\n",
    " - `restaurante` and `supermercados` seems be similar, based on the false positives exchanged.\n",
    " - `vestuario` has a low number of cases, which seems to justify the model's low eficacy. "
   ]
  },
  {
   "cell_type": "markdown",
   "id": "2b2cbb46-ed0b-4c0d-8f9f-8fd34a9ead0c",
   "metadata": {},
   "source": [
    "## Main Model Training\n",
    "\n",
    "This section creates the final model, using all the `training` set. The final evaluation will be performed in another notebook, to avoid reusing the `test` set."
   ]
  },
  {
   "cell_type": "code",
   "execution_count": 12,
   "id": "36f9a445-fa49-4179-b85f-32f2c3689830",
   "metadata": {},
   "outputs": [
    {
     "name": "stdout",
     "output_type": "stream",
     "text": [
      "CPU times: user 1min 5s, sys: 552 ms, total: 1min 6s\n",
      "Wall time: 9.95 s\n"
     ]
    }
   ],
   "source": [
    "%%time\n",
    "\n",
    "clean_df = (\n",
    "    df\n",
    "    .pipe(clean_data, CATEGORICAL_COLUMNS + [TARGET_COLUMN])\n",
    "    .pipe(engineer_features)\n",
    ")\n",
    "\n",
    "labels = clean_df[TARGET_COLUMN].unique().tolist()\n",
    "\n",
    "label_encoder, categorical_encoder = generate_encoders(\n",
    "    clean_df[COLUMNS_SELECTION],\n",
    "    labels,\n",
    "    HIGH_CARDINALITY_CATEGORICAL_COLUMNS,\n",
    ")\n",
    "\n",
    "X_training, y_training = vectorize_dataset(df,\n",
    "                                           label_encoder, \n",
    "                                           categorical_encoder,\n",
    "                                           columns_selection=COLUMNS_SELECTION,\n",
    "                                           categorical_columns=CATEGORICAL_COLUMNS,\n",
    "                                           binary_columns=BINARY_COLUMNS,\n",
    "                                           target_column=TARGET_COLUMN,\n",
    "                                          )\n",
    "\n",
    "model_params = copy.deepcopy(BASE_MODEL_PARAMS)\n",
    "\n",
    "extra_artifacts = [\n",
    "    (confusion_matrix_df, 'validation folds', 'confusion matrix'),\n",
    "    (summarized_validation_metrics_df, 'validation folds', 'metrics')\n",
    "]\n",
    "\n",
    "mlflow_run, model = train_model(\n",
    "    algorithm_class=LGBMClassifier,\n",
    "    model_params=model_params,\n",
    "    X_training=X_training,\n",
    "    y_training=y_training,\n",
    "    experiment_run_name=EXPERIMENT_RUN_NAME,\n",
    "    extra_artifacts=extra_artifacts,\n",
    "    features_names=COLUMNS_SELECTION,\n",
    ")"
   ]
  },
  {
   "cell_type": "markdown",
   "id": "b57485c8-905d-460c-aa25-a7efc89b9a34",
   "metadata": {},
   "source": [
    "### Model Registration and Publication\n",
    "\n",
    "After creating the model, it is wrapped into an MLFlow class to be used later."
   ]
  },
  {
   "cell_type": "code",
   "execution_count": 13,
   "id": "7105e7c2-9c41-4762-be87-19696f19309a",
   "metadata": {},
   "outputs": [
    {
     "name": "stderr",
     "output_type": "stream",
     "text": [
      "2022/08/22 18:52:49 INFO mlflow.tracking._model_registry.client: Waiting up to 300 seconds for model version to finish creation.                     Model name: financial_categorization_model, version 7\n"
     ]
    }
   ],
   "source": [
    "mlflow_model = FinancialClassificationModel(\n",
    "    categorical_columns=CATEGORICAL_COLUMNS,\n",
    "    binary_columns=BINARY_COLUMNS,\n",
    "    numeric_columns=NUMERIC_COLUMNS,\n",
    "    label_encoder=label_encoder,\n",
    "    categorical_encoder=categorical_encoder,\n",
    "    model=model)\n",
    "\n",
    "model_version = register_model(mlflow_model, mlflow_run, configs.mlflow.base_model_name)"
   ]
  },
  {
   "cell_type": "markdown",
   "id": "f217ae9b-9c98-4540-9d2a-51dbdb6cf261",
   "metadata": {},
   "source": [
    "The model is published in `Staging`."
   ]
  },
  {
   "cell_type": "code",
   "execution_count": 14,
   "id": "7fa74161-7314-4818-b760-b6ead9e11352",
   "metadata": {},
   "outputs": [],
   "source": [
    "publish_model(model_name=configs.mlflow.base_model_name, \n",
    "              model_version=model_version, \n",
    "              stage=\"Staging\")"
   ]
  },
  {
   "cell_type": "markdown",
   "id": "f6f75ccb-60ee-4bbf-9af3-b4d6fcbe7bab",
   "metadata": {},
   "source": [
    "### Model Artifacts"
   ]
  },
  {
   "cell_type": "code",
   "execution_count": 15,
   "id": "ad29e682-770d-4cdf-9a14-600c122ebec7",
   "metadata": {},
   "outputs": [
    {
     "data": {
      "text/html": [
       "<h4>Features importance</h4>"
      ],
      "text/plain": [
       "<IPython.core.display.HTML object>"
      ]
     },
     "metadata": {},
     "output_type": "display_data"
    },
    {
     "data": {
      "text/html": [
       "<table border=\"1\" class=\"dataframe\">\n",
       "  <thead>\n",
       "    <tr style=\"text-align: right;\">\n",
       "      <th></th>\n",
       "      <th>feature</th>\n",
       "      <th>absolute_importance</th>\n",
       "      <th>relative_importance</th>\n",
       "    </tr>\n",
       "  </thead>\n",
       "  <tbody>\n",
       "    <tr>\n",
       "      <th>16</th>\n",
       "      <td>valor</td>\n",
       "      <td>27913</td>\n",
       "      <td>17.37%</td>\n",
       "    </tr>\n",
       "    <tr>\n",
       "      <th>10</th>\n",
       "      <td>limite_disp</td>\n",
       "      <td>22590</td>\n",
       "      <td>14.06%</td>\n",
       "    </tr>\n",
       "    <tr>\n",
       "      <th>18</th>\n",
       "      <td>valor_relativo_total</td>\n",
       "      <td>22177</td>\n",
       "      <td>13.80%</td>\n",
       "    </tr>\n",
       "    <tr>\n",
       "      <th>17</th>\n",
       "      <td>valor_relativo_disponivel</td>\n",
       "      <td>21190</td>\n",
       "      <td>13.19%</td>\n",
       "    </tr>\n",
       "    <tr>\n",
       "      <th>3</th>\n",
       "      <td>dia_mes</td>\n",
       "      <td>17559</td>\n",
       "      <td>10.93%</td>\n",
       "    </tr>\n",
       "    <tr>\n",
       "      <th>12</th>\n",
       "      <td>mes</td>\n",
       "      <td>9969</td>\n",
       "      <td>6.21%</td>\n",
       "    </tr>\n",
       "    <tr>\n",
       "      <th>4</th>\n",
       "      <td>dia_semana</td>\n",
       "      <td>9121</td>\n",
       "      <td>5.68%</td>\n",
       "    </tr>\n",
       "    <tr>\n",
       "      <th>2</th>\n",
       "      <td>cidade_estabelecimento</td>\n",
       "      <td>8925</td>\n",
       "      <td>5.56%</td>\n",
       "    </tr>\n",
       "    <tr>\n",
       "      <th>9</th>\n",
       "      <td>idade</td>\n",
       "      <td>8331</td>\n",
       "      <td>5.19%</td>\n",
       "    </tr>\n",
       "    <tr>\n",
       "      <th>11</th>\n",
       "      <td>limite_total</td>\n",
       "      <td>6974</td>\n",
       "      <td>4.34%</td>\n",
       "    </tr>\n",
       "    <tr>\n",
       "      <th>0</th>\n",
       "      <td>cidade</td>\n",
       "      <td>2375</td>\n",
       "      <td>1.48%</td>\n",
       "    </tr>\n",
       "    <tr>\n",
       "      <th>1</th>\n",
       "      <td>cidade_diferente</td>\n",
       "      <td>1316</td>\n",
       "      <td>0.82%</td>\n",
       "    </tr>\n",
       "    <tr>\n",
       "      <th>7</th>\n",
       "      <td>estado_diferente</td>\n",
       "      <td>797</td>\n",
       "      <td>0.50%</td>\n",
       "    </tr>\n",
       "    <tr>\n",
       "      <th>8</th>\n",
       "      <td>estado_estabelecimento</td>\n",
       "      <td>625</td>\n",
       "      <td>0.39%</td>\n",
       "    </tr>\n",
       "    <tr>\n",
       "      <th>5</th>\n",
       "      <td>dia_util</td>\n",
       "      <td>358</td>\n",
       "      <td>0.22%</td>\n",
       "    </tr>\n",
       "    <tr>\n",
       "      <th>6</th>\n",
       "      <td>estado</td>\n",
       "      <td>301</td>\n",
       "      <td>0.19%</td>\n",
       "    </tr>\n",
       "    <tr>\n",
       "      <th>14</th>\n",
       "      <td>pais_estabelecimento</td>\n",
       "      <td>98</td>\n",
       "      <td>0.06%</td>\n",
       "    </tr>\n",
       "    <tr>\n",
       "      <th>13</th>\n",
       "      <td>pais_diferente</td>\n",
       "      <td>37</td>\n",
       "      <td>0.02%</td>\n",
       "    </tr>\n",
       "    <tr>\n",
       "      <th>15</th>\n",
       "      <td>sexo</td>\n",
       "      <td>0</td>\n",
       "      <td>0.00%</td>\n",
       "    </tr>\n",
       "  </tbody>\n",
       "</table>"
      ],
      "text/plain": [
       "<IPython.core.display.HTML object>"
      ]
     },
     "metadata": {},
     "output_type": "display_data"
    },
    {
     "data": {
      "text/html": [
       "<h4>Training metrics</h4>"
      ],
      "text/plain": [
       "<IPython.core.display.HTML object>"
      ]
     },
     "metadata": {},
     "output_type": "display_data"
    },
    {
     "data": {
      "text/html": [
       "<table border=\"1\" class=\"dataframe\">\n",
       "  <thead>\n",
       "    <tr style=\"text-align: right;\">\n",
       "      <th></th>\n",
       "      <th>metric</th>\n",
       "      <th>value</th>\n",
       "    </tr>\n",
       "  </thead>\n",
       "  <tbody>\n",
       "    <tr>\n",
       "      <th>0</th>\n",
       "      <td>macro_precision</td>\n",
       "      <td>0.999841</td>\n",
       "    </tr>\n",
       "    <tr>\n",
       "      <th>1</th>\n",
       "      <td>macro_recall</td>\n",
       "      <td>0.999861</td>\n",
       "    </tr>\n",
       "    <tr>\n",
       "      <th>2</th>\n",
       "      <td>macro_f1</td>\n",
       "      <td>0.999851</td>\n",
       "    </tr>\n",
       "    <tr>\n",
       "      <th>3</th>\n",
       "      <td>micro_precision</td>\n",
       "      <td>0.999493</td>\n",
       "    </tr>\n",
       "    <tr>\n",
       "      <th>4</th>\n",
       "      <td>micro_recall</td>\n",
       "      <td>0.999493</td>\n",
       "    </tr>\n",
       "    <tr>\n",
       "      <th>5</th>\n",
       "      <td>micro_f1</td>\n",
       "      <td>0.999493</td>\n",
       "    </tr>\n",
       "    <tr>\n",
       "      <th>6</th>\n",
       "      <td>weighted_precision</td>\n",
       "      <td>0.999493</td>\n",
       "    </tr>\n",
       "    <tr>\n",
       "      <th>7</th>\n",
       "      <td>weighted_recall</td>\n",
       "      <td>0.999493</td>\n",
       "    </tr>\n",
       "    <tr>\n",
       "      <th>8</th>\n",
       "      <td>weighted_f1</td>\n",
       "      <td>0.999493</td>\n",
       "    </tr>\n",
       "  </tbody>\n",
       "</table>"
      ],
      "text/plain": [
       "<IPython.core.display.HTML object>"
      ]
     },
     "metadata": {},
     "output_type": "display_data"
    },
    {
     "data": {
      "text/html": [
       "<h4>Class weights</h4>"
      ],
      "text/plain": [
       "<IPython.core.display.HTML object>"
      ]
     },
     "metadata": {},
     "output_type": "display_data"
    },
    {
     "data": {
      "text/html": [
       "<table border=\"1\" class=\"dataframe\">\n",
       "  <thead>\n",
       "    <tr style=\"text-align: right;\">\n",
       "      <th></th>\n",
       "      <th>class</th>\n",
       "      <th>weight</th>\n",
       "    </tr>\n",
       "  </thead>\n",
       "  <tbody>\n",
       "    <tr>\n",
       "      <th>0</th>\n",
       "      <td>0</td>\n",
       "      <td>31.285714</td>\n",
       "    </tr>\n",
       "    <tr>\n",
       "      <th>1</th>\n",
       "      <td>1</td>\n",
       "      <td>187.714286</td>\n",
       "    </tr>\n",
       "    <tr>\n",
       "      <th>2</th>\n",
       "      <td>2</td>\n",
       "      <td>1.975940</td>\n",
       "    </tr>\n",
       "    <tr>\n",
       "      <th>3</th>\n",
       "      <td>3</td>\n",
       "      <td>15.642857</td>\n",
       "    </tr>\n",
       "    <tr>\n",
       "      <th>4</th>\n",
       "      <td>4</td>\n",
       "      <td>6.257143</td>\n",
       "    </tr>\n",
       "    <tr>\n",
       "      <th>5</th>\n",
       "      <td>5</td>\n",
       "      <td>1.321932</td>\n",
       "    </tr>\n",
       "    <tr>\n",
       "      <th>6</th>\n",
       "      <td>6</td>\n",
       "      <td>1.137662</td>\n",
       "    </tr>\n",
       "    <tr>\n",
       "      <th>7</th>\n",
       "      <td>7</td>\n",
       "      <td>11.732143</td>\n",
       "    </tr>\n",
       "    <tr>\n",
       "      <th>8</th>\n",
       "      <td>8</td>\n",
       "      <td>8.938776</td>\n",
       "    </tr>\n",
       "    <tr>\n",
       "      <th>9</th>\n",
       "      <td>9</td>\n",
       "      <td>37.542857</td>\n",
       "    </tr>\n",
       "    <tr>\n",
       "      <th>10</th>\n",
       "      <td>10</td>\n",
       "      <td>2.933036</td>\n",
       "    </tr>\n",
       "    <tr>\n",
       "      <th>11</th>\n",
       "      <td>11</td>\n",
       "      <td>17.064935</td>\n",
       "    </tr>\n",
       "    <tr>\n",
       "      <th>12</th>\n",
       "      <td>12</td>\n",
       "      <td>18.771429</td>\n",
       "    </tr>\n",
       "    <tr>\n",
       "      <th>13</th>\n",
       "      <td>13</td>\n",
       "      <td>1.188065</td>\n",
       "    </tr>\n",
       "    <tr>\n",
       "      <th>14</th>\n",
       "      <td>14</td>\n",
       "      <td>0.265133</td>\n",
       "    </tr>\n",
       "    <tr>\n",
       "      <th>15</th>\n",
       "      <td>15</td>\n",
       "      <td>13.408163</td>\n",
       "    </tr>\n",
       "    <tr>\n",
       "      <th>16</th>\n",
       "      <td>16</td>\n",
       "      <td>0.129191</td>\n",
       "    </tr>\n",
       "    <tr>\n",
       "      <th>17</th>\n",
       "      <td>17</td>\n",
       "      <td>0.497916</td>\n",
       "    </tr>\n",
       "    <tr>\n",
       "      <th>18</th>\n",
       "      <td>18</td>\n",
       "      <td>18.771429</td>\n",
       "    </tr>\n",
       "    <tr>\n",
       "      <th>19</th>\n",
       "      <td>19</td>\n",
       "      <td>0.419942</td>\n",
       "    </tr>\n",
       "    <tr>\n",
       "      <th>20</th>\n",
       "      <td>20</td>\n",
       "      <td>0.952864</td>\n",
       "    </tr>\n",
       "  </tbody>\n",
       "</table>"
      ],
      "text/plain": [
       "<IPython.core.display.HTML object>"
      ]
     },
     "metadata": {},
     "output_type": "display_data"
    }
   ],
   "source": [
    "main_model_artifacts = get_mlflow_artifact_content(mlflow_run.info.run_id, 'main model')\n",
    "\n",
    "for artifact_name, content in main_model_artifacts.items():\n",
    "    display(HTML(f'<h4>{artifact_name.capitalize()}</h4>'))\n",
    "    display(HTML(main_model_artifacts[artifact_name]))"
   ]
  },
  {
   "cell_type": "markdown",
   "id": "4207f763-e8dd-42fe-9da7-48f9c0977c2b",
   "metadata": {},
   "source": [
    "## Concluding Remarks\n",
    " - Effectiveness:\n",
    "     - The F1 performance on the `validation folds` are low (about 45% of F1, based on micro average). The main reason might be related to the unbalance and low frequency of some categories and dataset unbalance.\n",
    "     - The most recent fold has the second worst performance. That is curious because it has the highest ammount of training data.\n",
    "     - The best performance was on the last fold, with the least ammount of data. That might be an indicative that it is important to keep only recent data with respect to the prediction data. It can be achieved by restrincting the training window of data or reducing the weights of old data.\n",
    " - Features:\n",
    "     - Features based on `valor` and `limite` are the most important for the algorithm.\n",
    "     - From the new feature created, `dia_mes` and `mes` were the most relevant. That is interesting for the final assessment because the dataset contains only 1 year of data. The test set will not have data with known months at the training set.\n",
    "     - There are 7 features with less than 1% of relative importance. \n",
    " \n",
    " - Overwall:\n",
    "     - As there is a limited number of records related to the less frequent categories, an alternative approach would be grouping all of them into a `others` group. \n",
    " \n",
    " \n",
    "Some alternative approaches could be experimented:\n",
    " - Perform hyperparameters tuning using [Optuna](https://optuna.org/).\n",
    " - Make older data less relevant by decreasing the weights of each record based on time.\n",
    " - Use [alternative encoders](https://contrib.scikit-learn.org/category_encoders) for high cardinality categories. `Catboost` and `LeaveOneOut` are some of the notable candidates.\n",
    " - Apply alternative algorithms to improve results.\n",
    " - Perform adversarial validation to check drift between `training` and `assessment` datasets.\n",
    " - Use SHAP to compute feature importance in a more reliable way."
   ]
  },
  {
   "cell_type": "code",
   "execution_count": null,
   "id": "7d069892-e64d-466f-ba4d-862d41b823b2",
   "metadata": {},
   "outputs": [],
   "source": []
  }
 ],
 "metadata": {
  "kernelspec": {
   "display_name": "Python 3 (ipykernel)",
   "language": "python",
   "name": "python3"
  },
  "language_info": {
   "codemirror_mode": {
    "name": "ipython",
    "version": 3
   },
   "file_extension": ".py",
   "mimetype": "text/x-python",
   "name": "python",
   "nbconvert_exporter": "python",
   "pygments_lexer": "ipython3",
   "version": "3.8.13"
  }
 },
 "nbformat": 4,
 "nbformat_minor": 5
}
